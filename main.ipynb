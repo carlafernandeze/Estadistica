{
 "cells": [
  {
   "cell_type": "markdown",
   "metadata": {},
   "source": [
    "# Antes de empezar :\n",
    "   - Estos ejercicios están relacionados con las lecciones Subconjunto y Estadísticas descriptivas.\n",
    "   - Tenga en cuenta que necesitará utilizar algunas de las funciones que aprendió en las lecciones anteriores.\n",
    "   - Todos los conjuntos de datos se proporcionan en la carpeta `your-code` de este laboratorio.\n",
    "   - Elabora tus códigos y resultados tanto como puedas.\n",
    "   - Esfuérzate al máximo para responder a las preguntas y completar las tareas y, sobre todo, ¡¡¡disfruta del proceso!!!"
   ]
  },
  {
   "cell_type": "markdown",
   "metadata": {},
   "source": [
    "#### Importa todas las librerías necesarias"
   ]
  },
  {
   "cell_type": "code",
   "execution_count": 3,
   "metadata": {},
   "outputs": [],
   "source": [
    "import numpy as np\n",
    "import pandas as pd\n",
    "import seaborn as sns\n",
    "import scipy.stats as stats\n",
    "import matplotlib.pyplot as plt"
   ]
  },
  {
   "cell_type": "markdown",
   "metadata": {},
   "source": [
    "# Desafío 1"
   ]
  },
  {
   "cell_type": "markdown",
   "metadata": {},
   "source": [
    "#### En este reto utilizaremos el archivo `Temp_States.csv`. \n",
    "\n",
    "#### Primero impórtalo en un marco de datos llamado `temp`."
   ]
  },
  {
   "cell_type": "code",
   "execution_count": 6,
   "metadata": {},
   "outputs": [],
   "source": [
    "temp = pd.read_csv('./Temp_states.csv')"
   ]
  },
  {
   "cell_type": "markdown",
   "metadata": {},
   "source": [
    "#### Print `temp`"
   ]
  },
  {
   "cell_type": "code",
   "execution_count": 8,
   "metadata": {},
   "outputs": [
    {
     "name": "stdout",
     "output_type": "stream",
     "text": [
      "         City        State  Temperature\n",
      "0         NYC     New York    19.444444\n",
      "1      Albany     New York     9.444444\n",
      "2     Buffalo     New York     3.333333\n",
      "3    Hartford  Connecticut    17.222222\n",
      "4  Bridgeport  Connecticut    14.444444\n",
      "5      Treton   New Jersey    22.222222\n",
      "6      Newark   New Jersey    20.000000\n"
     ]
    }
   ],
   "source": [
    "print(temp)"
   ]
  },
  {
   "cell_type": "markdown",
   "metadata": {},
   "source": [
    "#### Explore los tipos de datos del marco de datos Temp. ¿Qué tipo de datos tenemos? Comenta tu resultado."
   ]
  },
  {
   "cell_type": "code",
   "execution_count": 10,
   "metadata": {},
   "outputs": [
    {
     "name": "stdout",
     "output_type": "stream",
     "text": [
      "City            object\n",
      "State           object\n",
      "Temperature    float64\n",
      "dtype: object\n"
     ]
    }
   ],
   "source": [
    "data_types = temp.dtypes\n",
    "print(data_types)"
   ]
  },
  {
   "cell_type": "markdown",
   "metadata": {},
   "source": [
    "#### Selecciona las filas en las que el estado es New York"
   ]
  },
  {
   "cell_type": "code",
   "execution_count": 12,
   "metadata": {},
   "outputs": [
    {
     "name": "stdout",
     "output_type": "stream",
     "text": [
      "      City     State  Temperature\n",
      "0      NYC  New York    19.444444\n",
      "1   Albany  New York     9.444444\n",
      "2  Buffalo  New York     3.333333\n"
     ]
    }
   ],
   "source": [
    "new_york_data = temp[temp['State'] == 'New York']\n",
    "print(new_york_data.head())"
   ]
  },
  {
   "cell_type": "markdown",
   "metadata": {},
   "source": [
    "#### ¿Cuál es la temperatura media de las ciudades de Nueva York?"
   ]
  },
  {
   "cell_type": "code",
   "execution_count": 14,
   "metadata": {},
   "outputs": [
    {
     "name": "stdout",
     "output_type": "stream",
     "text": [
      "La temperatura media de las ciudades de NY es: 10.74\n"
     ]
    }
   ],
   "source": [
    "mean_temperature_ny = new_york_data['Temperature'].mean()\n",
    "print(f\"La temperatura media de las ciudades de NY es: {mean_temperature_ny:.2f}\")"
   ]
  },
  {
   "cell_type": "markdown",
   "metadata": {},
   "source": [
    "#### Queremos conocer las ciudades y estados con temperaturas superiores a 15 grados centígrados."
   ]
  },
  {
   "cell_type": "code",
   "execution_count": 16,
   "metadata": {},
   "outputs": [
    {
     "name": "stdout",
     "output_type": "stream",
     "text": [
      "       City        State\n",
      "0       NYC     New York\n",
      "3  Hartford  Connecticut\n",
      "5    Treton   New Jersey\n",
      "6    Newark   New Jersey\n"
     ]
    }
   ],
   "source": [
    "cities_states_15 = temp[temp['Temperature'] > 15][['City', 'State']]\n",
    "print(cities_states_15)\n"
   ]
  },
  {
   "cell_type": "markdown",
   "metadata": {},
   "source": [
    "#### Ahora, devuelva sólo las ciudades que tengan una temperatura superior a 15 grados centígrados."
   ]
  },
  {
   "cell_type": "code",
   "execution_count": 18,
   "metadata": {},
   "outputs": [
    {
     "name": "stdout",
     "output_type": "stream",
     "text": [
      "0         NYC\n",
      "3    Hartford\n",
      "5      Treton\n",
      "6      Newark\n",
      "Name: City, dtype: object\n"
     ]
    }
   ],
   "source": [
    "cities_15 = temp[temp['Temperature'] > 15]['City']\n",
    "print(cities_15)"
   ]
  },
  {
   "cell_type": "markdown",
   "metadata": {},
   "source": [
    "#### Queremos saber qué ciudades tienen una temperatura superior a 15 grados Celcius e inferior a 20 grados Celcius\n",
    "\n",
    "*Pista: Primero escriba la condición y luego seleccione las filas."
   ]
  },
  {
   "cell_type": "code",
   "execution_count": 20,
   "metadata": {},
   "outputs": [
    {
     "name": "stdout",
     "output_type": "stream",
     "text": [
      "       City  Temperature\n",
      "0       NYC    19.444444\n",
      "3  Hartford    17.222222\n"
     ]
    }
   ],
   "source": [
    "cities_15_20 = temp[(temp['Temperature'] > 15) & (temp['Temperature'] < 20)][['City','Temperature']]\n",
    "print(cities_15_20)"
   ]
  },
  {
   "cell_type": "code",
   "execution_count": 21,
   "metadata": {},
   "outputs": [],
   "source": [
    "#temp['State'].value_counts()"
   ]
  },
  {
   "cell_type": "markdown",
   "metadata": {},
   "source": [
    "#### Halla la media y la desviación estándar de la temperatura de cada estado.\n",
    "\n",
    "*Pista: Utiliza las funciones de la lección Manipulación de datos*."
   ]
  },
  {
   "cell_type": "code",
   "execution_count": 23,
   "metadata": {},
   "outputs": [
    {
     "name": "stdout",
     "output_type": "stream",
     "text": [
      "         State       mean       std\n",
      "0  Connecticut  15.833333  1.964186\n",
      "1   New Jersey  21.111111  1.571348\n",
      "2     New York  10.740741  8.133404\n"
     ]
    }
   ],
   "source": [
    "temperature_stats = temp.groupby('State')['Temperature'].agg(['mean','std']).reset_index()\n",
    "print(temperature_stats)"
   ]
  },
  {
   "cell_type": "markdown",
   "metadata": {
    "collapsed": true,
    "jupyter": {
     "outputs_hidden": true
    }
   },
   "source": [
    "# Desafío 2"
   ]
  },
  {
   "cell_type": "markdown",
   "metadata": {},
   "source": [
    "#### Cargar el fichero `employee.csv` en un DataFrame. Llama al dataframe `employee`."
   ]
  },
  {
   "cell_type": "code",
   "execution_count": 26,
   "metadata": {},
   "outputs": [
    {
     "name": "stdout",
     "output_type": "stream",
     "text": [
      "     Name Department Education Gender      Title  Years  Salary\n",
      "0    Jose         IT  Bachelor      M    analyst      1      35\n",
      "1   Maria         IT    Master      F    analyst      2      30\n",
      "2   David         HR    Master      M    analyst      2      30\n",
      "3   Sonia         HR  Bachelor      F    analyst      4      35\n",
      "4  Samuel      Sales    Master      M  associate      3      55\n",
      "5     Eva      Sales  Bachelor      F  associate      2      55\n",
      "6  Carlos         IT    Master      M         VP      8      70\n",
      "7   Pedro         IT       Phd      M  associate      7      60\n",
      "8     Ana         HR    Master      F         VP      8      70\n"
     ]
    }
   ],
   "source": [
    "employee = pd.read_csv('./Employee.csv')\n",
    "print(employee)"
   ]
  },
  {
   "cell_type": "markdown",
   "metadata": {},
   "source": [
    "#### Explore los tipos de datos del marco de datos Temp. Comenta tus resultados"
   ]
  },
  {
   "cell_type": "code",
   "execution_count": 28,
   "metadata": {},
   "outputs": [
    {
     "name": "stdout",
     "output_type": "stream",
     "text": [
      "Name          object\n",
      "Department    object\n",
      "Education     object\n",
      "Gender        object\n",
      "Title         object\n",
      "Years          int64\n",
      "Salary         int64\n",
      "dtype: object\n",
      "<class 'pandas.core.frame.DataFrame'>\n",
      "RangeIndex: 9 entries, 0 to 8\n",
      "Data columns (total 7 columns):\n",
      " #   Column      Non-Null Count  Dtype \n",
      "---  ------      --------------  ----- \n",
      " 0   Name        9 non-null      object\n",
      " 1   Department  9 non-null      object\n",
      " 2   Education   9 non-null      object\n",
      " 3   Gender      9 non-null      object\n",
      " 4   Title       9 non-null      object\n",
      " 5   Years       9 non-null      int64 \n",
      " 6   Salary      9 non-null      int64 \n",
      "dtypes: int64(2), object(5)\n",
      "memory usage: 636.0+ bytes\n",
      "None\n"
     ]
    }
   ],
   "source": [
    "print(employee.dtypes)\n",
    "\n",
    "print(employee.info())"
   ]
  },
  {
   "cell_type": "markdown",
   "metadata": {},
   "source": [
    "#### Muestre visualmente la distribución de frecuencias (histograma) del conjunto de datos de empleados. Describa en pocas palabras estos histogramas."
   ]
  },
  {
   "cell_type": "code",
   "execution_count": 30,
   "metadata": {},
   "outputs": [
    {
     "data": {
      "image/png": "[encoded data removed]",
      "text/plain": [
       "<Figure size 1000x600 with 1 Axes>"
      ]
     },
     "metadata": {},
     "output_type": "display_data"
    }
   ],
   "source": [
    "plt.figure(figsize=(10,6))\n",
    "plt.hist(employee['Salary'], bins=10, color='skyblue', edgecolor='black')\n",
    "plt.title('Distribución de salarios de empleados')\n",
    "plt.xlabel('Salario')\n",
    "plt.ylabel('Frecuencia')\n",
    "plt.show()"
   ]
  },
  {
   "cell_type": "code",
   "execution_count": 31,
   "metadata": {},
   "outputs": [
    {
     "data": {
      "image/png": "[encoded data removed]",
      "text/plain": [
       "<Figure size 800x500 with 1 Axes>"
      ]
     },
     "metadata": {},
     "output_type": "display_data"
    }
   ],
   "source": [
    "gender_counts = employee['Gender'].value_counts()\n",
    "\n",
    "plt.figure(figsize=(8, 5))\n",
    "gender_counts.plot(kind='bar', color='lightcoral', edgecolor='black')\n",
    "plt.title('Distribución de Género de Empleados')\n",
    "plt.xlabel('Género')\n",
    "plt.ylabel('Frecuencia')\n",
    "plt.xticks(rotation=0)\n",
    "plt.grid(axis='y', alpha=0.75)\n",
    "plt.show()"
   ]
  },
  {
   "cell_type": "code",
   "execution_count": 32,
   "metadata": {},
   "outputs": [
    {
     "data": {
      "image/png": "[encoded data removed]",
      "text/plain": [
       "<Figure size 1000x600 with 1 Axes>"
      ]
     },
     "metadata": {},
     "output_type": "display_data"
    }
   ],
   "source": [
    "plt.figure(figsize=(10, 6))\n",
    "sns.histplot(data=employee, x='Salary', hue='Gender', multiple='stack', bins=10, kde=True)\n",
    "\n",
    "# Personalización del gráfico\n",
    "plt.title(\"Distribución del Salario por Género\")\n",
    "plt.xlabel(\"Salario\")\n",
    "plt.ylabel(\"Frecuencia\")\n",
    "\n",
    "# Añadir leyenda manualmente\n",
    "plt.legend(title='Género', labels=employee['Gender'].unique())\n",
    "plt.grid(True)\n",
    "\n",
    "# Mostrar el gráfico\n",
    "plt.show()\n"
   ]
  },
  {
   "cell_type": "markdown",
   "metadata": {},
   "source": [
    "#### ¿Cuál es el salario medio en esta empresa?"
   ]
  },
  {
   "cell_type": "code",
   "execution_count": 34,
   "metadata": {},
   "outputs": [
    {
     "name": "stdout",
     "output_type": "stream",
     "text": [
      "El salario medio en la empresa es: 48.89\n"
     ]
    }
   ],
   "source": [
    "mean_salary = employee['Salary'].mean()\n",
    "print(f\"El salario medio en la empresa es: {mean_salary:.2f}\")"
   ]
  },
  {
   "cell_type": "markdown",
   "metadata": {},
   "source": [
    "#### ¿Cuál es el salario más alto?"
   ]
  },
  {
   "cell_type": "code",
   "execution_count": 36,
   "metadata": {},
   "outputs": [
    {
     "name": "stdout",
     "output_type": "stream",
     "text": [
      "El salario más alto en la empresa es: 70\n"
     ]
    }
   ],
   "source": [
    "max_salary = employee['Salary'].max()\n",
    "print(f\"El salario más alto en la empresa es: {max_salary}\")"
   ]
  },
  {
   "cell_type": "markdown",
   "metadata": {},
   "source": [
    "#### ¿Cuál es el salario más bajo?"
   ]
  },
  {
   "cell_type": "code",
   "execution_count": 38,
   "metadata": {},
   "outputs": [
    {
     "name": "stdout",
     "output_type": "stream",
     "text": [
      "El salario más bajo en la empresa es: 30\n"
     ]
    }
   ],
   "source": [
    "min_salary = employee['Salary'].min()\n",
    "print(f\"El salario más bajo en la empresa es: {min_salary}\")"
   ]
  },
  {
   "cell_type": "markdown",
   "metadata": {},
   "source": [
    "#### ¿Quiénes son los empleados con el salario más bajo?"
   ]
  },
  {
   "cell_type": "code",
   "execution_count": 40,
   "metadata": {},
   "outputs": [
    {
     "name": "stdout",
     "output_type": "stream",
     "text": [
      "    Name Department Education Gender    Title  Years  Salary\n",
      "1  Maria         IT    Master      F  analyst      2      30\n",
      "2  David         HR    Master      M  analyst      2      30\n"
     ]
    }
   ],
   "source": [
    "employees_min_salary = employee[employee['Salary'] == employee['Salary'].min()]\n",
    "print(employees_min_salary)"
   ]
  },
  {
   "cell_type": "markdown",
   "metadata": {},
   "source": [
    "#### ¿Podría darnos toda la información sobre un empleado llamado David?"
   ]
  },
  {
   "cell_type": "code",
   "execution_count": 42,
   "metadata": {},
   "outputs": [
    {
     "name": "stdout",
     "output_type": "stream",
     "text": [
      "    Name Department Education Gender    Title  Years  Salary\n",
      "2  David         HR    Master      M  analyst      2      30\n"
     ]
    }
   ],
   "source": [
    "info_david = employee[employee['Name'] == 'David']\n",
    "print(info_david)"
   ]
  },
  {
   "cell_type": "markdown",
   "metadata": {},
   "source": [
    "#### ¿Podría dar sólo el sueldo de David?"
   ]
  },
  {
   "cell_type": "code",
   "execution_count": 44,
   "metadata": {},
   "outputs": [
    {
     "name": "stdout",
     "output_type": "stream",
     "text": [
      "    Name  Salary\n",
      "2  David      30\n"
     ]
    }
   ],
   "source": [
    "salary_david = employee.loc[employee['Name'] == 'David', ['Name', 'Salary']]\n",
    "print(salary_david)"
   ]
  },
  {
   "cell_type": "markdown",
   "metadata": {},
   "source": [
    "#### Printea todas las líneas en las que el cargo es asociado"
   ]
  },
  {
   "cell_type": "code",
   "execution_count": 46,
   "metadata": {},
   "outputs": [
    {
     "name": "stdout",
     "output_type": "stream",
     "text": [
      "     Name Department Education Gender      Title  Years  Salary\n",
      "4  Samuel      Sales    Master      M  associate      3      55\n",
      "5     Eva      Sales  Bachelor      F  associate      2      55\n",
      "7   Pedro         IT       Phd      M  associate      7      60\n"
     ]
    }
   ],
   "source": [
    "title_associate = employee[employee['Title'] == 'associate']\n",
    "print(title_associate)"
   ]
  },
  {
   "cell_type": "markdown",
   "metadata": {},
   "source": [
    "#### Printea las 3 primeras filas de tu dataframe\n",
    "\n",
    "##### Consejo : Hay 2 maneras de hacerlo. Hazlo de las dos maneras"
   ]
  },
  {
   "cell_type": "code",
   "execution_count": 48,
   "metadata": {},
   "outputs": [
    {
     "name": "stdout",
     "output_type": "stream",
     "text": [
      "    Name Department Education Gender    Title  Years  Salary\n",
      "0   Jose         IT  Bachelor      M  analyst      1      35\n",
      "1  Maria         IT    Master      F  analyst      2      30\n",
      "2  David         HR    Master      M  analyst      2      30\n"
     ]
    }
   ],
   "source": [
    "print(employee.head(3))"
   ]
  },
  {
   "cell_type": "code",
   "execution_count": 49,
   "metadata": {},
   "outputs": [
    {
     "name": "stdout",
     "output_type": "stream",
     "text": [
      "    Name Department Education Gender    Title  Years  Salary\n",
      "0   Jose         IT  Bachelor      M  analyst      1      35\n",
      "1  Maria         IT    Master      F  analyst      2      30\n",
      "2  David         HR    Master      M  analyst      2      30\n"
     ]
    }
   ],
   "source": [
    "print(employee[:3])"
   ]
  },
  {
   "cell_type": "markdown",
   "metadata": {},
   "source": [
    "#### ¿Encuentra a los empleados cuyo cargo es asociado y cuyo salario es superior a 55?"
   ]
  },
  {
   "cell_type": "code",
   "execution_count": 51,
   "metadata": {},
   "outputs": [
    {
     "name": "stdout",
     "output_type": "stream",
     "text": [
      "    Name      Title  Salary\n",
      "7  Pedro  associate      60\n"
     ]
    }
   ],
   "source": [
    "title_associate = employee[(employee['Title'] == 'associate') & (employee['Salary'] > 55)][['Name','Title','Salary']]\n",
    "print(title_associate)"
   ]
  },
  {
   "cell_type": "markdown",
   "metadata": {},
   "source": [
    "#### Agrupa a los empleados en función del número de años que llevan trabajando. ¿Cuáles son los salarios medios de cada grupo?"
   ]
  },
  {
   "cell_type": "code",
   "execution_count": 53,
   "metadata": {},
   "outputs": [
    {
     "name": "stdout",
     "output_type": "stream",
     "text": [
      "Years\n",
      "1    35.000000\n",
      "2    38.333333\n",
      "3    55.000000\n",
      "4    35.000000\n",
      "7    60.000000\n",
      "8    70.000000\n",
      "Name: Salary, dtype: float64\n"
     ]
    }
   ],
   "source": [
    "mean_salary = employee.groupby('Years')['Salary'].mean()\n",
    "print(mean_salary)"
   ]
  },
  {
   "cell_type": "markdown",
   "metadata": {},
   "source": [
    "#### ¿Cuál es el salario medio por título?"
   ]
  },
  {
   "cell_type": "code",
   "execution_count": 55,
   "metadata": {},
   "outputs": [
    {
     "name": "stdout",
     "output_type": "stream",
     "text": [
      "Title\n",
      "VP           70.000000\n",
      "analyst      32.500000\n",
      "associate    56.666667\n",
      "Name: Salary, dtype: float64\n"
     ]
    }
   ],
   "source": [
    "mean_salary_title = employee.groupby('Title')['Salary'].mean()\n",
    "print(mean_salary_title)"
   ]
  },
  {
   "cell_type": "markdown",
   "metadata": {},
   "source": [
    "#### Muestra un resumen visual de los datos utilizando boxplot. ¿Cuáles son los cuartiles primero y tercero? Comenta tus resultados.\n",
    "\n",
    "* Pista : Cuantiles vs Cuartiles*.\n",
    "En Probabilidad y Estadística, los cuantiles son puntos de corte que dividen el rango de una distribución de probabilidad en intervalos continuos con probabilidades iguales. Cuando la división es en cuatro partes, los valores de la variable correspondientes al 25%, 50% y 75% de la distribución total se denominan cuartiles."
   ]
  },
  {
   "cell_type": "code",
   "execution_count": 57,
   "metadata": {},
   "outputs": [
    {
     "data": {
      "image/png": "[encoded data removed]",
      "text/plain": [
       "<Figure size 800x600 with 1 Axes>"
      ]
     },
     "metadata": {},
     "output_type": "display_data"
    }
   ],
   "source": [
    "plt.figure(figsize=(8, 6))\n",
    "plt.boxplot(employee['Salary'], vert=False)\n",
    "plt.title('Distribución del Salario')\n",
    "plt.xlabel('Salario')\n",
    "plt.grid(True)\n",
    "plt.show()"
   ]
  },
  {
   "cell_type": "code",
   "execution_count": 58,
   "metadata": {},
   "outputs": [
    {
     "name": "stdout",
     "output_type": "stream",
     "text": [
      "Primer cuartil (Q1): 35.0\n"
     ]
    }
   ],
   "source": [
    "Q1 = employee['Salary'].quantile(0.25)\n",
    "print(f\"Primer cuartil (Q1): {Q1}\")"
   ]
  },
  {
   "cell_type": "code",
   "execution_count": 59,
   "metadata": {},
   "outputs": [
    {
     "name": "stdout",
     "output_type": "stream",
     "text": [
      "Tercer cuartil (Q3): 60.0\n"
     ]
    }
   ],
   "source": [
    "Q3 = employee['Salary'].quantile(0.75)\n",
    "print(f\"Tercer cuartil (Q3): {Q3}\")"
   ]
  },
  {
   "cell_type": "markdown",
   "metadata": {},
   "source": [
    "#### ¿Es diferente el salario medio por género?"
   ]
  },
  {
   "cell_type": "code",
   "execution_count": 61,
   "metadata": {},
   "outputs": [
    {
     "name": "stdout",
     "output_type": "stream",
     "text": [
      "Gender\n",
      "F    47.5\n",
      "M    50.0\n",
      "Name: Salary, dtype: float64\n"
     ]
    }
   ],
   "source": [
    "salary_by_gender = employee.groupby('Gender')['Salary'].mean()\n",
    "print(salary_by_gender)"
   ]
  },
  {
   "cell_type": "markdown",
   "metadata": {},
   "source": [
    "#### Encuentra el mínimo, la media y el máximo de todas las columnas numéricas para cada Departamento.\n",
    "\n",
    "##### Sugerencia: Utiliza las funciones de la lección Manipulación de Datos"
   ]
  },
  {
   "cell_type": "code",
   "execution_count": 70,
   "metadata": {},
   "outputs": [
    {
     "name": "stdout",
     "output_type": "stream",
     "text": [
      "           Salary            Years              \n",
      "              min   mean max   min      mean max\n",
      "Department                                      \n",
      "HR             30  45.00  70     2  4.666667   8\n",
      "IT             30  48.75  70     1  4.500000   8\n",
      "Sales          55  55.00  55     2  2.500000   3\n"
     ]
    }
   ],
   "source": [
    "result = employee.groupby('Department')[['Salary', 'Years']].agg(['min', 'mean', 'max'])\n",
    "print(result)"
   ]
  },
  {
   "cell_type": "markdown",
   "metadata": {},
   "source": [
    "### Pregunta bonus\n",
    "\n",
    "#### Para cada departamento, calcule la diferencia entre el salario máximo y el salario mínimo.\n",
    "\n",
    "##### * Sugerencia: pruebe a utilizar `agg` o `apply` y `lambda`*."
   ]
  },
  {
   "cell_type": "code",
   "execution_count": 75,
   "metadata": {},
   "outputs": [
    {
     "data": {
      "text/html": [
       "<div>\n",
       "<style scoped>\n",
       "    .dataframe tbody tr th:only-of-type {\n",
       "        vertical-align: middle;\n",
       "    }\n",
       "\n",
       "    .dataframe tbody tr th {\n",
       "        vertical-align: top;\n",
       "    }\n",
       "\n",
       "    .dataframe thead th {\n",
       "        text-align: right;\n",
       "    }\n",
       "</style>\n",
       "<table border=\"1\" class=\"dataframe\">\n",
       "  <thead>\n",
       "    <tr style=\"text-align: right;\">\n",
       "      <th></th>\n",
       "      <th>diferencia</th>\n",
       "      <th>desviacion_estandar</th>\n",
       "    </tr>\n",
       "    <tr>\n",
       "      <th>Department</th>\n",
       "      <th></th>\n",
       "      <th></th>\n",
       "    </tr>\n",
       "  </thead>\n",
       "  <tbody>\n",
       "    <tr>\n",
       "      <th>HR</th>\n",
       "      <td>40</td>\n",
       "      <td>21.794495</td>\n",
       "    </tr>\n",
       "    <tr>\n",
       "      <th>IT</th>\n",
       "      <td>40</td>\n",
       "      <td>19.311050</td>\n",
       "    </tr>\n",
       "    <tr>\n",
       "      <th>Sales</th>\n",
       "      <td>0</td>\n",
       "      <td>0.000000</td>\n",
       "    </tr>\n",
       "  </tbody>\n",
       "</table>\n",
       "</div>"
      ],
      "text/plain": [
       "            diferencia  desviacion_estandar\n",
       "Department                                 \n",
       "HR                  40            21.794495\n",
       "IT                  40            19.311050\n",
       "Sales                0             0.000000"
      ]
     },
     "execution_count": 75,
     "metadata": {},
     "output_type": "execute_result"
    }
   ],
   "source": [
    "result = employee.groupby('Department')['Salary'].agg(\n",
    "    diferencia=lambda x: x.max() - x.min(),\n",
    "    desviacion_estandar='std'\n",
    ")\n",
    "result"
   ]
  },
  {
   "cell_type": "markdown",
   "metadata": {
    "collapsed": true,
    "jupyter": {
     "outputs_hidden": true
    }
   },
   "source": [
    "# Desafío 3"
   ]
  },
  {
   "cell_type": "markdown",
   "metadata": {},
   "source": [
    "#### Abra el conjunto de datos Orders.csv. Nombre el conjunto de datos pedidos"
   ]
  },
  {
   "cell_type": "code",
   "execution_count": 88,
   "metadata": {},
   "outputs": [
    {
     "data": {
      "text/html": [
       "<div>\n",
       "<style scoped>\n",
       "    .dataframe tbody tr th:only-of-type {\n",
       "        vertical-align: middle;\n",
       "    }\n",
       "\n",
       "    .dataframe tbody tr th {\n",
       "        vertical-align: top;\n",
       "    }\n",
       "\n",
       "    .dataframe thead th {\n",
       "        text-align: right;\n",
       "    }\n",
       "</style>\n",
       "<table border=\"1\" class=\"dataframe\">\n",
       "  <thead>\n",
       "    <tr style=\"text-align: right;\">\n",
       "      <th></th>\n",
       "      <th>Unnamed: 0</th>\n",
       "      <th>InvoiceNo</th>\n",
       "      <th>StockCode</th>\n",
       "      <th>year</th>\n",
       "      <th>month</th>\n",
       "      <th>day</th>\n",
       "      <th>hour</th>\n",
       "      <th>Description</th>\n",
       "      <th>Quantity</th>\n",
       "      <th>InvoiceDate</th>\n",
       "      <th>UnitPrice</th>\n",
       "      <th>CustomerID</th>\n",
       "      <th>Country</th>\n",
       "      <th>amount_spent</th>\n",
       "    </tr>\n",
       "  </thead>\n",
       "  <tbody>\n",
       "    <tr>\n",
       "      <th>0</th>\n",
       "      <td>0</td>\n",
       "      <td>536365</td>\n",
       "      <td>85123A</td>\n",
       "      <td>2010</td>\n",
       "      <td>12</td>\n",
       "      <td>3</td>\n",
       "      <td>8</td>\n",
       "      <td>white hanging heart t-light holder</td>\n",
       "      <td>6</td>\n",
       "      <td>2010-12-01 08:26:00</td>\n",
       "      <td>2.55</td>\n",
       "      <td>17850</td>\n",
       "      <td>United Kingdom</td>\n",
       "      <td>15.30</td>\n",
       "    </tr>\n",
       "    <tr>\n",
       "      <th>1</th>\n",
       "      <td>1</td>\n",
       "      <td>536365</td>\n",
       "      <td>71053</td>\n",
       "      <td>2010</td>\n",
       "      <td>12</td>\n",
       "      <td>3</td>\n",
       "      <td>8</td>\n",
       "      <td>white metal lantern</td>\n",
       "      <td>6</td>\n",
       "      <td>2010-12-01 08:26:00</td>\n",
       "      <td>3.39</td>\n",
       "      <td>17850</td>\n",
       "      <td>United Kingdom</td>\n",
       "      <td>20.34</td>\n",
       "    </tr>\n",
       "    <tr>\n",
       "      <th>2</th>\n",
       "      <td>2</td>\n",
       "      <td>536365</td>\n",
       "      <td>84406B</td>\n",
       "      <td>2010</td>\n",
       "      <td>12</td>\n",
       "      <td>3</td>\n",
       "      <td>8</td>\n",
       "      <td>cream cupid hearts coat hanger</td>\n",
       "      <td>8</td>\n",
       "      <td>2010-12-01 08:26:00</td>\n",
       "      <td>2.75</td>\n",
       "      <td>17850</td>\n",
       "      <td>United Kingdom</td>\n",
       "      <td>22.00</td>\n",
       "    </tr>\n",
       "    <tr>\n",
       "      <th>3</th>\n",
       "      <td>3</td>\n",
       "      <td>536365</td>\n",
       "      <td>84029G</td>\n",
       "      <td>2010</td>\n",
       "      <td>12</td>\n",
       "      <td>3</td>\n",
       "      <td>8</td>\n",
       "      <td>knitted union flag hot water bottle</td>\n",
       "      <td>6</td>\n",
       "      <td>2010-12-01 08:26:00</td>\n",
       "      <td>3.39</td>\n",
       "      <td>17850</td>\n",
       "      <td>United Kingdom</td>\n",
       "      <td>20.34</td>\n",
       "    </tr>\n",
       "    <tr>\n",
       "      <th>4</th>\n",
       "      <td>4</td>\n",
       "      <td>536365</td>\n",
       "      <td>84029E</td>\n",
       "      <td>2010</td>\n",
       "      <td>12</td>\n",
       "      <td>3</td>\n",
       "      <td>8</td>\n",
       "      <td>red woolly hottie white heart.</td>\n",
       "      <td>6</td>\n",
       "      <td>2010-12-01 08:26:00</td>\n",
       "      <td>3.39</td>\n",
       "      <td>17850</td>\n",
       "      <td>United Kingdom</td>\n",
       "      <td>20.34</td>\n",
       "    </tr>\n",
       "    <tr>\n",
       "      <th>...</th>\n",
       "      <td>...</td>\n",
       "      <td>...</td>\n",
       "      <td>...</td>\n",
       "      <td>...</td>\n",
       "      <td>...</td>\n",
       "      <td>...</td>\n",
       "      <td>...</td>\n",
       "      <td>...</td>\n",
       "      <td>...</td>\n",
       "      <td>...</td>\n",
       "      <td>...</td>\n",
       "      <td>...</td>\n",
       "      <td>...</td>\n",
       "      <td>...</td>\n",
       "    </tr>\n",
       "    <tr>\n",
       "      <th>397919</th>\n",
       "      <td>541904</td>\n",
       "      <td>581587</td>\n",
       "      <td>22613</td>\n",
       "      <td>2011</td>\n",
       "      <td>12</td>\n",
       "      <td>5</td>\n",
       "      <td>12</td>\n",
       "      <td>pack of 20 spaceboy napkins</td>\n",
       "      <td>12</td>\n",
       "      <td>2011-12-09 12:50:00</td>\n",
       "      <td>0.85</td>\n",
       "      <td>12680</td>\n",
       "      <td>France</td>\n",
       "      <td>10.20</td>\n",
       "    </tr>\n",
       "    <tr>\n",
       "      <th>397920</th>\n",
       "      <td>541905</td>\n",
       "      <td>581587</td>\n",
       "      <td>22899</td>\n",
       "      <td>2011</td>\n",
       "      <td>12</td>\n",
       "      <td>5</td>\n",
       "      <td>12</td>\n",
       "      <td>children's apron dolly girl</td>\n",
       "      <td>6</td>\n",
       "      <td>2011-12-09 12:50:00</td>\n",
       "      <td>2.10</td>\n",
       "      <td>12680</td>\n",
       "      <td>France</td>\n",
       "      <td>12.60</td>\n",
       "    </tr>\n",
       "    <tr>\n",
       "      <th>397921</th>\n",
       "      <td>541906</td>\n",
       "      <td>581587</td>\n",
       "      <td>23254</td>\n",
       "      <td>2011</td>\n",
       "      <td>12</td>\n",
       "      <td>5</td>\n",
       "      <td>12</td>\n",
       "      <td>childrens cutlery dolly girl</td>\n",
       "      <td>4</td>\n",
       "      <td>2011-12-09 12:50:00</td>\n",
       "      <td>4.15</td>\n",
       "      <td>12680</td>\n",
       "      <td>France</td>\n",
       "      <td>16.60</td>\n",
       "    </tr>\n",
       "    <tr>\n",
       "      <th>397922</th>\n",
       "      <td>541907</td>\n",
       "      <td>581587</td>\n",
       "      <td>23255</td>\n",
       "      <td>2011</td>\n",
       "      <td>12</td>\n",
       "      <td>5</td>\n",
       "      <td>12</td>\n",
       "      <td>childrens cutlery circus parade</td>\n",
       "      <td>4</td>\n",
       "      <td>2011-12-09 12:50:00</td>\n",
       "      <td>4.15</td>\n",
       "      <td>12680</td>\n",
       "      <td>France</td>\n",
       "      <td>16.60</td>\n",
       "    </tr>\n",
       "    <tr>\n",
       "      <th>397923</th>\n",
       "      <td>541908</td>\n",
       "      <td>581587</td>\n",
       "      <td>22138</td>\n",
       "      <td>2011</td>\n",
       "      <td>12</td>\n",
       "      <td>5</td>\n",
       "      <td>12</td>\n",
       "      <td>baking set 9 piece retrospot</td>\n",
       "      <td>3</td>\n",
       "      <td>2011-12-09 12:50:00</td>\n",
       "      <td>4.95</td>\n",
       "      <td>12680</td>\n",
       "      <td>France</td>\n",
       "      <td>14.85</td>\n",
       "    </tr>\n",
       "  </tbody>\n",
       "</table>\n",
       "<p>397924 rows × 14 columns</p>\n",
       "</div>"
      ],
      "text/plain": [
       "        Unnamed: 0  InvoiceNo StockCode  year  month  day  hour  \\\n",
       "0                0     536365    85123A  2010     12    3     8   \n",
       "1                1     536365     71053  2010     12    3     8   \n",
       "2                2     536365    84406B  2010     12    3     8   \n",
       "3                3     536365    84029G  2010     12    3     8   \n",
       "4                4     536365    84029E  2010     12    3     8   \n",
       "...            ...        ...       ...   ...    ...  ...   ...   \n",
       "397919      541904     581587     22613  2011     12    5    12   \n",
       "397920      541905     581587     22899  2011     12    5    12   \n",
       "397921      541906     581587     23254  2011     12    5    12   \n",
       "397922      541907     581587     23255  2011     12    5    12   \n",
       "397923      541908     581587     22138  2011     12    5    12   \n",
       "\n",
       "                                Description  Quantity          InvoiceDate  \\\n",
       "0        white hanging heart t-light holder         6  2010-12-01 08:26:00   \n",
       "1                       white metal lantern         6  2010-12-01 08:26:00   \n",
       "2            cream cupid hearts coat hanger         8  2010-12-01 08:26:00   \n",
       "3       knitted union flag hot water bottle         6  2010-12-01 08:26:00   \n",
       "4            red woolly hottie white heart.         6  2010-12-01 08:26:00   \n",
       "...                                     ...       ...                  ...   \n",
       "397919          pack of 20 spaceboy napkins        12  2011-12-09 12:50:00   \n",
       "397920         children's apron dolly girl          6  2011-12-09 12:50:00   \n",
       "397921        childrens cutlery dolly girl          4  2011-12-09 12:50:00   \n",
       "397922      childrens cutlery circus parade         4  2011-12-09 12:50:00   \n",
       "397923        baking set 9 piece retrospot          3  2011-12-09 12:50:00   \n",
       "\n",
       "        UnitPrice  CustomerID         Country  amount_spent  \n",
       "0            2.55       17850  United Kingdom         15.30  \n",
       "1            3.39       17850  United Kingdom         20.34  \n",
       "2            2.75       17850  United Kingdom         22.00  \n",
       "3            3.39       17850  United Kingdom         20.34  \n",
       "4            3.39       17850  United Kingdom         20.34  \n",
       "...           ...         ...             ...           ...  \n",
       "397919       0.85       12680          France         10.20  \n",
       "397920       2.10       12680          France         12.60  \n",
       "397921       4.15       12680          France         16.60  \n",
       "397922       4.15       12680          France         16.60  \n",
       "397923       4.95       12680          France         14.85  \n",
       "\n",
       "[397924 rows x 14 columns]"
      ]
     },
     "execution_count": 88,
     "metadata": {},
     "output_type": "execute_result"
    }
   ],
   "source": [
    "orders = pd.read_csv('./Orders.csv')\n",
    "orders"
   ]
  },
  {
   "cell_type": "markdown",
   "metadata": {},
   "source": [
    "#### Explore su conjunto de datos observando los tipos de datos y las estadísticas de resumen. Comenta tus resultados"
   ]
  },
  {
   "cell_type": "code",
   "execution_count": 84,
   "metadata": {},
   "outputs": [
    {
     "name": "stdout",
     "output_type": "stream",
     "text": [
      "<class 'pandas.core.frame.DataFrame'>\n",
      "RangeIndex: 397924 entries, 0 to 397923\n",
      "Data columns (total 14 columns):\n",
      " #   Column        Non-Null Count   Dtype  \n",
      "---  ------        --------------   -----  \n",
      " 0   Unnamed: 0    397924 non-null  int64  \n",
      " 1   InvoiceNo     397924 non-null  int64  \n",
      " 2   StockCode     397924 non-null  object \n",
      " 3   year          397924 non-null  int64  \n",
      " 4   month         397924 non-null  int64  \n",
      " 5   day           397924 non-null  int64  \n",
      " 6   hour          397924 non-null  int64  \n",
      " 7   Description   397924 non-null  object \n",
      " 8   Quantity      397924 non-null  int64  \n",
      " 9   InvoiceDate   397924 non-null  object \n",
      " 10  UnitPrice     397924 non-null  float64\n",
      " 11  CustomerID    397924 non-null  int64  \n",
      " 12  Country       397924 non-null  object \n",
      " 13  amount_spent  397924 non-null  float64\n",
      "dtypes: float64(2), int64(8), object(4)\n",
      "memory usage: 42.5+ MB\n"
     ]
    }
   ],
   "source": [
    "orders.info()"
   ]
  },
  {
   "cell_type": "code",
   "execution_count": 86,
   "metadata": {},
   "outputs": [
    {
     "data": {
      "text/html": [
       "<div>\n",
       "<style scoped>\n",
       "    .dataframe tbody tr th:only-of-type {\n",
       "        vertical-align: middle;\n",
       "    }\n",
       "\n",
       "    .dataframe tbody tr th {\n",
       "        vertical-align: top;\n",
       "    }\n",
       "\n",
       "    .dataframe thead th {\n",
       "        text-align: right;\n",
       "    }\n",
       "</style>\n",
       "<table border=\"1\" class=\"dataframe\">\n",
       "  <thead>\n",
       "    <tr style=\"text-align: right;\">\n",
       "      <th></th>\n",
       "      <th>Unnamed: 0</th>\n",
       "      <th>InvoiceNo</th>\n",
       "      <th>year</th>\n",
       "      <th>month</th>\n",
       "      <th>day</th>\n",
       "      <th>hour</th>\n",
       "      <th>Quantity</th>\n",
       "      <th>UnitPrice</th>\n",
       "      <th>CustomerID</th>\n",
       "      <th>amount_spent</th>\n",
       "    </tr>\n",
       "  </thead>\n",
       "  <tbody>\n",
       "    <tr>\n",
       "      <th>count</th>\n",
       "      <td>397924.000000</td>\n",
       "      <td>397924.000000</td>\n",
       "      <td>397924.000000</td>\n",
       "      <td>397924.000000</td>\n",
       "      <td>397924.000000</td>\n",
       "      <td>397924.000000</td>\n",
       "      <td>397924.000000</td>\n",
       "      <td>397924.000000</td>\n",
       "      <td>397924.000000</td>\n",
       "      <td>397924.000000</td>\n",
       "    </tr>\n",
       "    <tr>\n",
       "      <th>mean</th>\n",
       "      <td>278465.221859</td>\n",
       "      <td>560617.126645</td>\n",
       "      <td>2010.934259</td>\n",
       "      <td>7.612537</td>\n",
       "      <td>3.614555</td>\n",
       "      <td>12.728247</td>\n",
       "      <td>13.021823</td>\n",
       "      <td>3.116174</td>\n",
       "      <td>15294.315171</td>\n",
       "      <td>22.394749</td>\n",
       "    </tr>\n",
       "    <tr>\n",
       "      <th>std</th>\n",
       "      <td>152771.368303</td>\n",
       "      <td>13106.167695</td>\n",
       "      <td>0.247829</td>\n",
       "      <td>3.416527</td>\n",
       "      <td>1.928274</td>\n",
       "      <td>2.273535</td>\n",
       "      <td>180.420210</td>\n",
       "      <td>22.096788</td>\n",
       "      <td>1713.169877</td>\n",
       "      <td>309.055588</td>\n",
       "    </tr>\n",
       "    <tr>\n",
       "      <th>min</th>\n",
       "      <td>0.000000</td>\n",
       "      <td>536365.000000</td>\n",
       "      <td>2010.000000</td>\n",
       "      <td>1.000000</td>\n",
       "      <td>1.000000</td>\n",
       "      <td>6.000000</td>\n",
       "      <td>1.000000</td>\n",
       "      <td>0.000000</td>\n",
       "      <td>12346.000000</td>\n",
       "      <td>0.000000</td>\n",
       "    </tr>\n",
       "    <tr>\n",
       "      <th>25%</th>\n",
       "      <td>148333.750000</td>\n",
       "      <td>549234.000000</td>\n",
       "      <td>2011.000000</td>\n",
       "      <td>5.000000</td>\n",
       "      <td>2.000000</td>\n",
       "      <td>11.000000</td>\n",
       "      <td>2.000000</td>\n",
       "      <td>1.250000</td>\n",
       "      <td>13969.000000</td>\n",
       "      <td>4.680000</td>\n",
       "    </tr>\n",
       "    <tr>\n",
       "      <th>50%</th>\n",
       "      <td>284907.500000</td>\n",
       "      <td>561893.000000</td>\n",
       "      <td>2011.000000</td>\n",
       "      <td>8.000000</td>\n",
       "      <td>3.000000</td>\n",
       "      <td>13.000000</td>\n",
       "      <td>6.000000</td>\n",
       "      <td>1.950000</td>\n",
       "      <td>15159.000000</td>\n",
       "      <td>11.800000</td>\n",
       "    </tr>\n",
       "    <tr>\n",
       "      <th>75%</th>\n",
       "      <td>410079.250000</td>\n",
       "      <td>572090.000000</td>\n",
       "      <td>2011.000000</td>\n",
       "      <td>11.000000</td>\n",
       "      <td>5.000000</td>\n",
       "      <td>14.000000</td>\n",
       "      <td>12.000000</td>\n",
       "      <td>3.750000</td>\n",
       "      <td>16795.000000</td>\n",
       "      <td>19.800000</td>\n",
       "    </tr>\n",
       "    <tr>\n",
       "      <th>max</th>\n",
       "      <td>541908.000000</td>\n",
       "      <td>581587.000000</td>\n",
       "      <td>2011.000000</td>\n",
       "      <td>12.000000</td>\n",
       "      <td>7.000000</td>\n",
       "      <td>20.000000</td>\n",
       "      <td>80995.000000</td>\n",
       "      <td>8142.750000</td>\n",
       "      <td>18287.000000</td>\n",
       "      <td>168469.600000</td>\n",
       "    </tr>\n",
       "  </tbody>\n",
       "</table>\n",
       "</div>"
      ],
      "text/plain": [
       "          Unnamed: 0      InvoiceNo           year          month  \\\n",
       "count  397924.000000  397924.000000  397924.000000  397924.000000   \n",
       "mean   278465.221859  560617.126645    2010.934259       7.612537   \n",
       "std    152771.368303   13106.167695       0.247829       3.416527   \n",
       "min         0.000000  536365.000000    2010.000000       1.000000   \n",
       "25%    148333.750000  549234.000000    2011.000000       5.000000   \n",
       "50%    284907.500000  561893.000000    2011.000000       8.000000   \n",
       "75%    410079.250000  572090.000000    2011.000000      11.000000   \n",
       "max    541908.000000  581587.000000    2011.000000      12.000000   \n",
       "\n",
       "                 day           hour       Quantity      UnitPrice  \\\n",
       "count  397924.000000  397924.000000  397924.000000  397924.000000   \n",
       "mean        3.614555      12.728247      13.021823       3.116174   \n",
       "std         1.928274       2.273535     180.420210      22.096788   \n",
       "min         1.000000       6.000000       1.000000       0.000000   \n",
       "25%         2.000000      11.000000       2.000000       1.250000   \n",
       "50%         3.000000      13.000000       6.000000       1.950000   \n",
       "75%         5.000000      14.000000      12.000000       3.750000   \n",
       "max         7.000000      20.000000   80995.000000    8142.750000   \n",
       "\n",
       "          CustomerID   amount_spent  \n",
       "count  397924.000000  397924.000000  \n",
       "mean    15294.315171      22.394749  \n",
       "std      1713.169877     309.055588  \n",
       "min     12346.000000       0.000000  \n",
       "25%     13969.000000       4.680000  \n",
       "50%     15159.000000      11.800000  \n",
       "75%     16795.000000      19.800000  \n",
       "max     18287.000000  168469.600000  "
      ]
     },
     "execution_count": 86,
     "metadata": {},
     "output_type": "execute_result"
    }
   ],
   "source": [
    "orders.describe()"
   ]
  },
  {
   "cell_type": "markdown",
   "metadata": {},
   "source": [
    "#### ¿Cuál es el precio medio de compra?"
   ]
  },
  {
   "cell_type": "code",
   "execution_count": 106,
   "metadata": {},
   "outputs": [
    {
     "name": "stdout",
     "output_type": "stream",
     "text": [
      "El precio medio de compra es:22.39 €\n"
     ]
    }
   ],
   "source": [
    "precio_medio_compra = orders['amount_spent'].mean()\n",
    "print(f\"El precio medio de compra es:{precio_medio_compra:.2f} €\")"
   ]
  },
  {
   "cell_type": "markdown",
   "metadata": {},
   "source": [
    "#### ¿Cuáles fueron los precios de compra más altos y más bajos? "
   ]
  },
  {
   "cell_type": "code",
   "execution_count": 112,
   "metadata": {},
   "outputs": [
    {
     "name": "stdout",
     "output_type": "stream",
     "text": [
      "El precio más bajo de compra es:0.00 €\n"
     ]
    }
   ],
   "source": [
    "min_precio_compra = orders['amount_spent'].min()\n",
    "print(f\"El precio más bajo de compra es:{min_precio_compra:.2f} €\")"
   ]
  },
  {
   "cell_type": "code",
   "execution_count": 110,
   "metadata": {},
   "outputs": [
    {
     "name": "stdout",
     "output_type": "stream",
     "text": [
      "El precio más alto de compra es:168469.60 €\n"
     ]
    }
   ],
   "source": [
    "max_precio_compra = orders['amount_spent'].max()\n",
    "print(f\"El precio más alto de compra es:{max_precio_compra:.2f} €\")"
   ]
  },
  {
   "cell_type": "markdown",
   "metadata": {},
   "source": [
    "#### Seleccione todos los clientes que tenemos en España"
   ]
  },
  {
   "cell_type": "code",
   "execution_count": 143,
   "metadata": {},
   "outputs": [
    {
     "data": {
      "text/html": [
       "<div>\n",
       "<style scoped>\n",
       "    .dataframe tbody tr th:only-of-type {\n",
       "        vertical-align: middle;\n",
       "    }\n",
       "\n",
       "    .dataframe tbody tr th {\n",
       "        vertical-align: top;\n",
       "    }\n",
       "\n",
       "    .dataframe thead th {\n",
       "        text-align: right;\n",
       "    }\n",
       "</style>\n",
       "<table border=\"1\" class=\"dataframe\">\n",
       "  <thead>\n",
       "    <tr style=\"text-align: right;\">\n",
       "      <th></th>\n",
       "      <th>Unnamed: 0</th>\n",
       "      <th>InvoiceNo</th>\n",
       "      <th>StockCode</th>\n",
       "      <th>year</th>\n",
       "      <th>month</th>\n",
       "      <th>day</th>\n",
       "      <th>hour</th>\n",
       "      <th>Description</th>\n",
       "      <th>Quantity</th>\n",
       "      <th>InvoiceDate</th>\n",
       "      <th>UnitPrice</th>\n",
       "      <th>CustomerID</th>\n",
       "      <th>Country</th>\n",
       "      <th>amount_spent</th>\n",
       "    </tr>\n",
       "  </thead>\n",
       "  <tbody>\n",
       "    <tr>\n",
       "      <th>4250</th>\n",
       "      <td>6421</td>\n",
       "      <td>536944</td>\n",
       "      <td>22383</td>\n",
       "      <td>2010</td>\n",
       "      <td>12</td>\n",
       "      <td>5</td>\n",
       "      <td>12</td>\n",
       "      <td>lunch bag suki  design</td>\n",
       "      <td>70</td>\n",
       "      <td>2010-12-03 12:20:00</td>\n",
       "      <td>1.65</td>\n",
       "      <td>12557</td>\n",
       "      <td>Spain</td>\n",
       "      <td>115.50</td>\n",
       "    </tr>\n",
       "    <tr>\n",
       "      <th>4251</th>\n",
       "      <td>6422</td>\n",
       "      <td>536944</td>\n",
       "      <td>22384</td>\n",
       "      <td>2010</td>\n",
       "      <td>12</td>\n",
       "      <td>5</td>\n",
       "      <td>12</td>\n",
       "      <td>lunch bag pink polkadot</td>\n",
       "      <td>100</td>\n",
       "      <td>2010-12-03 12:20:00</td>\n",
       "      <td>1.45</td>\n",
       "      <td>12557</td>\n",
       "      <td>Spain</td>\n",
       "      <td>145.00</td>\n",
       "    </tr>\n",
       "    <tr>\n",
       "      <th>4252</th>\n",
       "      <td>6423</td>\n",
       "      <td>536944</td>\n",
       "      <td>20727</td>\n",
       "      <td>2010</td>\n",
       "      <td>12</td>\n",
       "      <td>5</td>\n",
       "      <td>12</td>\n",
       "      <td>lunch bag  black skull.</td>\n",
       "      <td>60</td>\n",
       "      <td>2010-12-03 12:20:00</td>\n",
       "      <td>1.65</td>\n",
       "      <td>12557</td>\n",
       "      <td>Spain</td>\n",
       "      <td>99.00</td>\n",
       "    </tr>\n",
       "    <tr>\n",
       "      <th>4253</th>\n",
       "      <td>6424</td>\n",
       "      <td>536944</td>\n",
       "      <td>20725</td>\n",
       "      <td>2010</td>\n",
       "      <td>12</td>\n",
       "      <td>5</td>\n",
       "      <td>12</td>\n",
       "      <td>lunch bag red retrospot</td>\n",
       "      <td>70</td>\n",
       "      <td>2010-12-03 12:20:00</td>\n",
       "      <td>1.65</td>\n",
       "      <td>12557</td>\n",
       "      <td>Spain</td>\n",
       "      <td>115.50</td>\n",
       "    </tr>\n",
       "    <tr>\n",
       "      <th>4254</th>\n",
       "      <td>6425</td>\n",
       "      <td>536944</td>\n",
       "      <td>20728</td>\n",
       "      <td>2010</td>\n",
       "      <td>12</td>\n",
       "      <td>5</td>\n",
       "      <td>12</td>\n",
       "      <td>lunch bag cars blue</td>\n",
       "      <td>100</td>\n",
       "      <td>2010-12-03 12:20:00</td>\n",
       "      <td>1.45</td>\n",
       "      <td>12557</td>\n",
       "      <td>Spain</td>\n",
       "      <td>145.00</td>\n",
       "    </tr>\n",
       "    <tr>\n",
       "      <th>...</th>\n",
       "      <td>...</td>\n",
       "      <td>...</td>\n",
       "      <td>...</td>\n",
       "      <td>...</td>\n",
       "      <td>...</td>\n",
       "      <td>...</td>\n",
       "      <td>...</td>\n",
       "      <td>...</td>\n",
       "      <td>...</td>\n",
       "      <td>...</td>\n",
       "      <td>...</td>\n",
       "      <td>...</td>\n",
       "      <td>...</td>\n",
       "      <td>...</td>\n",
       "    </tr>\n",
       "    <tr>\n",
       "      <th>394733</th>\n",
       "      <td>535271</td>\n",
       "      <td>581193</td>\n",
       "      <td>23291</td>\n",
       "      <td>2011</td>\n",
       "      <td>12</td>\n",
       "      <td>3</td>\n",
       "      <td>17</td>\n",
       "      <td>dolly girl childrens cup</td>\n",
       "      <td>2</td>\n",
       "      <td>2011-12-07 17:05:00</td>\n",
       "      <td>1.25</td>\n",
       "      <td>17097</td>\n",
       "      <td>Spain</td>\n",
       "      <td>2.50</td>\n",
       "    </tr>\n",
       "    <tr>\n",
       "      <th>394734</th>\n",
       "      <td>535272</td>\n",
       "      <td>581193</td>\n",
       "      <td>85232D</td>\n",
       "      <td>2011</td>\n",
       "      <td>12</td>\n",
       "      <td>3</td>\n",
       "      <td>17</td>\n",
       "      <td>set/3 decoupage stacking tins</td>\n",
       "      <td>1</td>\n",
       "      <td>2011-12-07 17:05:00</td>\n",
       "      <td>4.95</td>\n",
       "      <td>17097</td>\n",
       "      <td>Spain</td>\n",
       "      <td>4.95</td>\n",
       "    </tr>\n",
       "    <tr>\n",
       "      <th>394735</th>\n",
       "      <td>535273</td>\n",
       "      <td>581193</td>\n",
       "      <td>22721</td>\n",
       "      <td>2011</td>\n",
       "      <td>12</td>\n",
       "      <td>3</td>\n",
       "      <td>17</td>\n",
       "      <td>set of 3 cake tins sketchbook</td>\n",
       "      <td>2</td>\n",
       "      <td>2011-12-07 17:05:00</td>\n",
       "      <td>1.95</td>\n",
       "      <td>17097</td>\n",
       "      <td>Spain</td>\n",
       "      <td>3.90</td>\n",
       "    </tr>\n",
       "    <tr>\n",
       "      <th>394736</th>\n",
       "      <td>535274</td>\n",
       "      <td>581193</td>\n",
       "      <td>23241</td>\n",
       "      <td>2011</td>\n",
       "      <td>12</td>\n",
       "      <td>3</td>\n",
       "      <td>17</td>\n",
       "      <td>treasure tin gymkhana design</td>\n",
       "      <td>1</td>\n",
       "      <td>2011-12-07 17:05:00</td>\n",
       "      <td>2.08</td>\n",
       "      <td>17097</td>\n",
       "      <td>Spain</td>\n",
       "      <td>2.08</td>\n",
       "    </tr>\n",
       "    <tr>\n",
       "      <th>394737</th>\n",
       "      <td>535275</td>\n",
       "      <td>581193</td>\n",
       "      <td>23247</td>\n",
       "      <td>2011</td>\n",
       "      <td>12</td>\n",
       "      <td>3</td>\n",
       "      <td>17</td>\n",
       "      <td>biscuit tin 50's christmas</td>\n",
       "      <td>1</td>\n",
       "      <td>2011-12-07 17:05:00</td>\n",
       "      <td>2.89</td>\n",
       "      <td>17097</td>\n",
       "      <td>Spain</td>\n",
       "      <td>2.89</td>\n",
       "    </tr>\n",
       "  </tbody>\n",
       "</table>\n",
       "<p>2485 rows × 14 columns</p>\n",
       "</div>"
      ],
      "text/plain": [
       "        Unnamed: 0  InvoiceNo StockCode  year  month  day  hour  \\\n",
       "4250          6421     536944     22383  2010     12    5    12   \n",
       "4251          6422     536944     22384  2010     12    5    12   \n",
       "4252          6423     536944     20727  2010     12    5    12   \n",
       "4253          6424     536944     20725  2010     12    5    12   \n",
       "4254          6425     536944     20728  2010     12    5    12   \n",
       "...            ...        ...       ...   ...    ...  ...   ...   \n",
       "394733      535271     581193     23291  2011     12    3    17   \n",
       "394734      535272     581193    85232D  2011     12    3    17   \n",
       "394735      535273     581193     22721  2011     12    3    17   \n",
       "394736      535274     581193     23241  2011     12    3    17   \n",
       "394737      535275     581193     23247  2011     12    3    17   \n",
       "\n",
       "                          Description  Quantity          InvoiceDate  \\\n",
       "4250          lunch bag suki  design         70  2010-12-03 12:20:00   \n",
       "4251          lunch bag pink polkadot       100  2010-12-03 12:20:00   \n",
       "4252          lunch bag  black skull.        60  2010-12-03 12:20:00   \n",
       "4253          lunch bag red retrospot        70  2010-12-03 12:20:00   \n",
       "4254              lunch bag cars blue       100  2010-12-03 12:20:00   \n",
       "...                               ...       ...                  ...   \n",
       "394733       dolly girl childrens cup         2  2011-12-07 17:05:00   \n",
       "394734  set/3 decoupage stacking tins         1  2011-12-07 17:05:00   \n",
       "394735  set of 3 cake tins sketchbook         2  2011-12-07 17:05:00   \n",
       "394736   treasure tin gymkhana design         1  2011-12-07 17:05:00   \n",
       "394737     biscuit tin 50's christmas         1  2011-12-07 17:05:00   \n",
       "\n",
       "        UnitPrice  CustomerID Country  amount_spent  \n",
       "4250         1.65       12557   Spain        115.50  \n",
       "4251         1.45       12557   Spain        145.00  \n",
       "4252         1.65       12557   Spain         99.00  \n",
       "4253         1.65       12557   Spain        115.50  \n",
       "4254         1.45       12557   Spain        145.00  \n",
       "...           ...         ...     ...           ...  \n",
       "394733       1.25       17097   Spain          2.50  \n",
       "394734       4.95       17097   Spain          4.95  \n",
       "394735       1.95       17097   Spain          3.90  \n",
       "394736       2.08       17097   Spain          2.08  \n",
       "394737       2.89       17097   Spain          2.89  \n",
       "\n",
       "[2485 rows x 14 columns]"
      ]
     },
     "execution_count": 143,
     "metadata": {},
     "output_type": "execute_result"
    }
   ],
   "source": [
    "clientes_españa = orders[orders['Country'] == 'Spain']\n",
    "clientes_españa"
   ]
  },
  {
   "cell_type": "markdown",
   "metadata": {},
   "source": [
    "#### ¿Cuántos clientes tenemos en España?\n",
    "##### Pista : Utiliza value_counts()"
   ]
  },
  {
   "cell_type": "code",
   "execution_count": 151,
   "metadata": {},
   "outputs": [
    {
     "name": "stdout",
     "output_type": "stream",
     "text": [
      "Número de clientes en España: 2485\n"
     ]
    }
   ],
   "source": [
    "clientes_por_pais = orders['Country'].value_counts()\n",
    "numero_clientes_espana = clientes_por_pais.get('Spain', 0)\n",
    "print(f\"Número de clientes en España: {numero_clientes_espana}\")"
   ]
  },
  {
   "cell_type": "markdown",
   "metadata": {},
   "source": [
    "#### Selecciona todos los clientes que han comprado más de 50 artículos ?"
   ]
  },
  {
   "cell_type": "code",
   "execution_count": 156,
   "metadata": {},
   "outputs": [
    {
     "data": {
      "text/plain": [
       "CustomerID\n",
       "12346    74215\n",
       "12347     2458\n",
       "12348     2341\n",
       "12349      631\n",
       "12350      197\n",
       "         ...  \n",
       "18278       66\n",
       "18281       54\n",
       "18282      103\n",
       "18283     1397\n",
       "18287     1586\n",
       "Name: Quantity, Length: 4091, dtype: int64"
      ]
     },
     "execution_count": 156,
     "metadata": {},
     "output_type": "execute_result"
    }
   ],
   "source": [
    "articulos_cliente = orders.groupby('CustomerID')['Quantity'].sum()\n",
    "cliente_mas_50 = articulos_cliente[articulos_cliente > 50]\n",
    "cliente_mas_50"
   ]
  },
  {
   "cell_type": "markdown",
   "metadata": {},
   "source": [
    "#### Selecciona pedidos de España superiores a 50 artículos"
   ]
  },
  {
   "cell_type": "code",
   "execution_count": 164,
   "metadata": {},
   "outputs": [
    {
     "data": {
      "text/plain": [
       "InvoiceNo\n",
       "536944    400\n",
       "538095     67\n",
       "538525    300\n",
       "539351    100\n",
       "540469    630\n",
       "         ... \n",
       "578321    920\n",
       "578339     77\n",
       "579503    117\n",
       "580955    182\n",
       "581193     92\n",
       "Name: Quantity, Length: 80, dtype: int64"
      ]
     },
     "execution_count": 164,
     "metadata": {},
     "output_type": "execute_result"
    }
   ],
   "source": [
    "pedidos_españa = orders[orders['Country'] == 'Spain']\n",
    "total_articulos_españa = pedidos_españa.groupby('InvoiceNo')['Quantity'].sum()\n",
    "pedidos_mas_50_españa = total_articulos_españa[total_articulos_españa > 50]\n",
    "pedidos_mas_50_españa"
   ]
  },
  {
   "cell_type": "markdown",
   "metadata": {},
   "source": [
    "#### Seleccionar todos los pedidos gratuitos"
   ]
  },
  {
   "cell_type": "code",
   "execution_count": 170,
   "metadata": {
    "scrolled": true
   },
   "outputs": [
    {
     "data": {
      "text/plain": [
       "InvoiceNo\n",
       "537197    0.0\n",
       "539263    0.0\n",
       "539722    0.0\n",
       "540372    0.0\n",
       "541109    0.0\n",
       "543599    0.0\n",
       "547417    0.0\n",
       "548318    0.0\n",
       "548871    0.0\n",
       "550188    0.0\n",
       "553000    0.0\n",
       "554037    0.0\n",
       "561284    0.0\n",
       "561669    0.0\n",
       "561916    0.0\n",
       "562973    0.0\n",
       "564651    0.0\n",
       "568158    0.0\n",
       "568384    0.0\n",
       "569716    0.0\n",
       "571035    0.0\n",
       "572893    0.0\n",
       "574138    0.0\n",
       "574175    0.0\n",
       "574252    0.0\n",
       "574469    0.0\n",
       "574879    0.0\n",
       "574920    0.0\n",
       "575579    0.0\n",
       "577129    0.0\n",
       "577168    0.0\n",
       "577314    0.0\n",
       "577696    0.0\n",
       "578841    0.0\n",
       "Name: amount_spent, dtype: float64"
      ]
     },
     "execution_count": 170,
     "metadata": {},
     "output_type": "execute_result"
    }
   ],
   "source": [
    "pedidos_0 = orders[orders['amount_spent'] == 0]\n",
    "pedidos_gratuitos = pedidos_0.groupby('InvoiceNo')['amount_spent'].sum()\n",
    "pedidos_gratuitos"
   ]
  },
  {
   "cell_type": "markdown",
   "metadata": {},
   "source": [
    "#### Seleccionar todos los pedidos que sean 'lunch bag\n",
    "#### Pista: Utilice las funciones de cadena"
   ]
  },
  {
   "cell_type": "code",
   "execution_count": 178,
   "metadata": {},
   "outputs": [
    {
     "data": {
      "text/html": [
       "<div>\n",
       "<style scoped>\n",
       "    .dataframe tbody tr th:only-of-type {\n",
       "        vertical-align: middle;\n",
       "    }\n",
       "\n",
       "    .dataframe tbody tr th {\n",
       "        vertical-align: top;\n",
       "    }\n",
       "\n",
       "    .dataframe thead th {\n",
       "        text-align: right;\n",
       "    }\n",
       "</style>\n",
       "<table border=\"1\" class=\"dataframe\">\n",
       "  <thead>\n",
       "    <tr style=\"text-align: right;\">\n",
       "      <th></th>\n",
       "      <th>Unnamed: 0</th>\n",
       "      <th>InvoiceNo</th>\n",
       "      <th>StockCode</th>\n",
       "      <th>year</th>\n",
       "      <th>month</th>\n",
       "      <th>day</th>\n",
       "      <th>hour</th>\n",
       "      <th>Description</th>\n",
       "      <th>Quantity</th>\n",
       "      <th>InvoiceDate</th>\n",
       "      <th>UnitPrice</th>\n",
       "      <th>CustomerID</th>\n",
       "      <th>Country</th>\n",
       "      <th>amount_spent</th>\n",
       "    </tr>\n",
       "  </thead>\n",
       "  <tbody>\n",
       "    <tr>\n",
       "      <th>93</th>\n",
       "      <td>93</td>\n",
       "      <td>536378</td>\n",
       "      <td>20725</td>\n",
       "      <td>2010</td>\n",
       "      <td>12</td>\n",
       "      <td>3</td>\n",
       "      <td>9</td>\n",
       "      <td>lunch bag red retrospot</td>\n",
       "      <td>10</td>\n",
       "      <td>2010-12-01 09:37:00</td>\n",
       "      <td>1.65</td>\n",
       "      <td>14688</td>\n",
       "      <td>United Kingdom</td>\n",
       "      <td>16.50</td>\n",
       "    </tr>\n",
       "    <tr>\n",
       "      <th>172</th>\n",
       "      <td>174</td>\n",
       "      <td>536385</td>\n",
       "      <td>22662</td>\n",
       "      <td>2010</td>\n",
       "      <td>12</td>\n",
       "      <td>3</td>\n",
       "      <td>9</td>\n",
       "      <td>lunch bag dolly girl design</td>\n",
       "      <td>10</td>\n",
       "      <td>2010-12-01 09:56:00</td>\n",
       "      <td>1.65</td>\n",
       "      <td>17420</td>\n",
       "      <td>United Kingdom</td>\n",
       "      <td>16.50</td>\n",
       "    </tr>\n",
       "    <tr>\n",
       "      <th>354</th>\n",
       "      <td>363</td>\n",
       "      <td>536401</td>\n",
       "      <td>22662</td>\n",
       "      <td>2010</td>\n",
       "      <td>12</td>\n",
       "      <td>3</td>\n",
       "      <td>11</td>\n",
       "      <td>lunch bag dolly girl design</td>\n",
       "      <td>1</td>\n",
       "      <td>2010-12-01 11:21:00</td>\n",
       "      <td>1.65</td>\n",
       "      <td>15862</td>\n",
       "      <td>United Kingdom</td>\n",
       "      <td>1.65</td>\n",
       "    </tr>\n",
       "    <tr>\n",
       "      <th>359</th>\n",
       "      <td>368</td>\n",
       "      <td>536401</td>\n",
       "      <td>20725</td>\n",
       "      <td>2010</td>\n",
       "      <td>12</td>\n",
       "      <td>3</td>\n",
       "      <td>11</td>\n",
       "      <td>lunch bag red retrospot</td>\n",
       "      <td>1</td>\n",
       "      <td>2010-12-01 11:21:00</td>\n",
       "      <td>1.65</td>\n",
       "      <td>15862</td>\n",
       "      <td>United Kingdom</td>\n",
       "      <td>1.65</td>\n",
       "    </tr>\n",
       "    <tr>\n",
       "      <th>360</th>\n",
       "      <td>369</td>\n",
       "      <td>536401</td>\n",
       "      <td>22382</td>\n",
       "      <td>2010</td>\n",
       "      <td>12</td>\n",
       "      <td>3</td>\n",
       "      <td>11</td>\n",
       "      <td>lunch bag spaceboy design</td>\n",
       "      <td>2</td>\n",
       "      <td>2010-12-01 11:21:00</td>\n",
       "      <td>1.65</td>\n",
       "      <td>15862</td>\n",
       "      <td>United Kingdom</td>\n",
       "      <td>3.30</td>\n",
       "    </tr>\n",
       "    <tr>\n",
       "      <th>...</th>\n",
       "      <td>...</td>\n",
       "      <td>...</td>\n",
       "      <td>...</td>\n",
       "      <td>...</td>\n",
       "      <td>...</td>\n",
       "      <td>...</td>\n",
       "      <td>...</td>\n",
       "      <td>...</td>\n",
       "      <td>...</td>\n",
       "      <td>...</td>\n",
       "      <td>...</td>\n",
       "      <td>...</td>\n",
       "      <td>...</td>\n",
       "      <td>...</td>\n",
       "    </tr>\n",
       "    <tr>\n",
       "      <th>397465</th>\n",
       "      <td>540436</td>\n",
       "      <td>581486</td>\n",
       "      <td>23207</td>\n",
       "      <td>2011</td>\n",
       "      <td>12</td>\n",
       "      <td>5</td>\n",
       "      <td>9</td>\n",
       "      <td>lunch bag alphabet design</td>\n",
       "      <td>10</td>\n",
       "      <td>2011-12-09 09:38:00</td>\n",
       "      <td>1.65</td>\n",
       "      <td>17001</td>\n",
       "      <td>United Kingdom</td>\n",
       "      <td>16.50</td>\n",
       "    </tr>\n",
       "    <tr>\n",
       "      <th>397713</th>\n",
       "      <td>541695</td>\n",
       "      <td>581538</td>\n",
       "      <td>20727</td>\n",
       "      <td>2011</td>\n",
       "      <td>12</td>\n",
       "      <td>5</td>\n",
       "      <td>11</td>\n",
       "      <td>lunch bag  black skull.</td>\n",
       "      <td>1</td>\n",
       "      <td>2011-12-09 11:34:00</td>\n",
       "      <td>1.65</td>\n",
       "      <td>14446</td>\n",
       "      <td>United Kingdom</td>\n",
       "      <td>1.65</td>\n",
       "    </tr>\n",
       "    <tr>\n",
       "      <th>397714</th>\n",
       "      <td>541696</td>\n",
       "      <td>581538</td>\n",
       "      <td>20725</td>\n",
       "      <td>2011</td>\n",
       "      <td>12</td>\n",
       "      <td>5</td>\n",
       "      <td>11</td>\n",
       "      <td>lunch bag red retrospot</td>\n",
       "      <td>1</td>\n",
       "      <td>2011-12-09 11:34:00</td>\n",
       "      <td>1.65</td>\n",
       "      <td>14446</td>\n",
       "      <td>United Kingdom</td>\n",
       "      <td>1.65</td>\n",
       "    </tr>\n",
       "    <tr>\n",
       "      <th>397877</th>\n",
       "      <td>541862</td>\n",
       "      <td>581581</td>\n",
       "      <td>23681</td>\n",
       "      <td>2011</td>\n",
       "      <td>12</td>\n",
       "      <td>5</td>\n",
       "      <td>12</td>\n",
       "      <td>lunch bag red vintage doily</td>\n",
       "      <td>10</td>\n",
       "      <td>2011-12-09 12:20:00</td>\n",
       "      <td>1.65</td>\n",
       "      <td>17581</td>\n",
       "      <td>United Kingdom</td>\n",
       "      <td>16.50</td>\n",
       "    </tr>\n",
       "    <tr>\n",
       "      <th>397880</th>\n",
       "      <td>541865</td>\n",
       "      <td>581583</td>\n",
       "      <td>20725</td>\n",
       "      <td>2011</td>\n",
       "      <td>12</td>\n",
       "      <td>5</td>\n",
       "      <td>12</td>\n",
       "      <td>lunch bag red retrospot</td>\n",
       "      <td>40</td>\n",
       "      <td>2011-12-09 12:23:00</td>\n",
       "      <td>1.45</td>\n",
       "      <td>13777</td>\n",
       "      <td>United Kingdom</td>\n",
       "      <td>58.00</td>\n",
       "    </tr>\n",
       "  </tbody>\n",
       "</table>\n",
       "<p>11556 rows × 14 columns</p>\n",
       "</div>"
      ],
      "text/plain": [
       "        Unnamed: 0  InvoiceNo StockCode  year  month  day  hour  \\\n",
       "93              93     536378     20725  2010     12    3     9   \n",
       "172            174     536385     22662  2010     12    3     9   \n",
       "354            363     536401     22662  2010     12    3    11   \n",
       "359            368     536401     20725  2010     12    3    11   \n",
       "360            369     536401     22382  2010     12    3    11   \n",
       "...            ...        ...       ...   ...    ...  ...   ...   \n",
       "397465      540436     581486     23207  2011     12    5     9   \n",
       "397713      541695     581538     20727  2011     12    5    11   \n",
       "397714      541696     581538     20725  2011     12    5    11   \n",
       "397877      541862     581581     23681  2011     12    5    12   \n",
       "397880      541865     581583     20725  2011     12    5    12   \n",
       "\n",
       "                        Description  Quantity          InvoiceDate  UnitPrice  \\\n",
       "93          lunch bag red retrospot        10  2010-12-01 09:37:00       1.65   \n",
       "172     lunch bag dolly girl design        10  2010-12-01 09:56:00       1.65   \n",
       "354     lunch bag dolly girl design         1  2010-12-01 11:21:00       1.65   \n",
       "359         lunch bag red retrospot         1  2010-12-01 11:21:00       1.65   \n",
       "360      lunch bag spaceboy design          2  2010-12-01 11:21:00       1.65   \n",
       "...                             ...       ...                  ...        ...   \n",
       "397465    lunch bag alphabet design        10  2011-12-09 09:38:00       1.65   \n",
       "397713      lunch bag  black skull.         1  2011-12-09 11:34:00       1.65   \n",
       "397714      lunch bag red retrospot         1  2011-12-09 11:34:00       1.65   \n",
       "397877  lunch bag red vintage doily        10  2011-12-09 12:20:00       1.65   \n",
       "397880      lunch bag red retrospot        40  2011-12-09 12:23:00       1.45   \n",
       "\n",
       "        CustomerID         Country  amount_spent  \n",
       "93           14688  United Kingdom         16.50  \n",
       "172          17420  United Kingdom         16.50  \n",
       "354          15862  United Kingdom          1.65  \n",
       "359          15862  United Kingdom          1.65  \n",
       "360          15862  United Kingdom          3.30  \n",
       "...            ...             ...           ...  \n",
       "397465       17001  United Kingdom         16.50  \n",
       "397713       14446  United Kingdom          1.65  \n",
       "397714       14446  United Kingdom          1.65  \n",
       "397877       17581  United Kingdom         16.50  \n",
       "397880       13777  United Kingdom         58.00  \n",
       "\n",
       "[11556 rows x 14 columns]"
      ]
     },
     "execution_count": 178,
     "metadata": {},
     "output_type": "execute_result"
    }
   ],
   "source": [
    "pedidos_lunch_bag = orders[orders['Description'].str.contains('lunch bag.*')]\n",
    "\n",
    "pedidos_lunch_bag\n"
   ]
  },
  {
   "cell_type": "markdown",
   "metadata": {},
   "source": [
    "#### Seleccione todos los pedidos realizados en 2011 y que sean «lunch bag».  "
   ]
  },
  {
   "cell_type": "code",
   "execution_count": 182,
   "metadata": {},
   "outputs": [
    {
     "data": {
      "text/html": [
       "<div>\n",
       "<style scoped>\n",
       "    .dataframe tbody tr th:only-of-type {\n",
       "        vertical-align: middle;\n",
       "    }\n",
       "\n",
       "    .dataframe tbody tr th {\n",
       "        vertical-align: top;\n",
       "    }\n",
       "\n",
       "    .dataframe thead th {\n",
       "        text-align: right;\n",
       "    }\n",
       "</style>\n",
       "<table border=\"1\" class=\"dataframe\">\n",
       "  <thead>\n",
       "    <tr style=\"text-align: right;\">\n",
       "      <th></th>\n",
       "      <th>Unnamed: 0</th>\n",
       "      <th>InvoiceNo</th>\n",
       "      <th>StockCode</th>\n",
       "      <th>year</th>\n",
       "      <th>month</th>\n",
       "      <th>day</th>\n",
       "      <th>hour</th>\n",
       "      <th>Description</th>\n",
       "      <th>Quantity</th>\n",
       "      <th>InvoiceDate</th>\n",
       "      <th>UnitPrice</th>\n",
       "      <th>CustomerID</th>\n",
       "      <th>Country</th>\n",
       "      <th>amount_spent</th>\n",
       "    </tr>\n",
       "  </thead>\n",
       "  <tbody>\n",
       "    <tr>\n",
       "      <th>26340</th>\n",
       "      <td>42678</td>\n",
       "      <td>540015</td>\n",
       "      <td>20725</td>\n",
       "      <td>2011</td>\n",
       "      <td>1</td>\n",
       "      <td>2</td>\n",
       "      <td>11</td>\n",
       "      <td>lunch bag red retrospot</td>\n",
       "      <td>10</td>\n",
       "      <td>2011-01-04 11:40:00</td>\n",
       "      <td>1.65</td>\n",
       "      <td>13319</td>\n",
       "      <td>United Kingdom</td>\n",
       "      <td>16.50</td>\n",
       "    </tr>\n",
       "    <tr>\n",
       "      <th>26341</th>\n",
       "      <td>42679</td>\n",
       "      <td>540015</td>\n",
       "      <td>20726</td>\n",
       "      <td>2011</td>\n",
       "      <td>1</td>\n",
       "      <td>2</td>\n",
       "      <td>11</td>\n",
       "      <td>lunch bag woodland</td>\n",
       "      <td>10</td>\n",
       "      <td>2011-01-04 11:40:00</td>\n",
       "      <td>1.65</td>\n",
       "      <td>13319</td>\n",
       "      <td>United Kingdom</td>\n",
       "      <td>16.50</td>\n",
       "    </tr>\n",
       "    <tr>\n",
       "      <th>26512</th>\n",
       "      <td>42851</td>\n",
       "      <td>540023</td>\n",
       "      <td>22382</td>\n",
       "      <td>2011</td>\n",
       "      <td>1</td>\n",
       "      <td>2</td>\n",
       "      <td>12</td>\n",
       "      <td>lunch bag spaceboy design</td>\n",
       "      <td>2</td>\n",
       "      <td>2011-01-04 12:58:00</td>\n",
       "      <td>1.65</td>\n",
       "      <td>15039</td>\n",
       "      <td>United Kingdom</td>\n",
       "      <td>3.30</td>\n",
       "    </tr>\n",
       "    <tr>\n",
       "      <th>26513</th>\n",
       "      <td>42852</td>\n",
       "      <td>540023</td>\n",
       "      <td>20726</td>\n",
       "      <td>2011</td>\n",
       "      <td>1</td>\n",
       "      <td>2</td>\n",
       "      <td>12</td>\n",
       "      <td>lunch bag woodland</td>\n",
       "      <td>1</td>\n",
       "      <td>2011-01-04 12:58:00</td>\n",
       "      <td>1.65</td>\n",
       "      <td>15039</td>\n",
       "      <td>United Kingdom</td>\n",
       "      <td>1.65</td>\n",
       "    </tr>\n",
       "    <tr>\n",
       "      <th>26860</th>\n",
       "      <td>43616</td>\n",
       "      <td>540098</td>\n",
       "      <td>22384</td>\n",
       "      <td>2011</td>\n",
       "      <td>1</td>\n",
       "      <td>2</td>\n",
       "      <td>15</td>\n",
       "      <td>lunch bag pink polkadot</td>\n",
       "      <td>1</td>\n",
       "      <td>2011-01-04 15:50:00</td>\n",
       "      <td>1.65</td>\n",
       "      <td>16241</td>\n",
       "      <td>United Kingdom</td>\n",
       "      <td>1.65</td>\n",
       "    </tr>\n",
       "    <tr>\n",
       "      <th>...</th>\n",
       "      <td>...</td>\n",
       "      <td>...</td>\n",
       "      <td>...</td>\n",
       "      <td>...</td>\n",
       "      <td>...</td>\n",
       "      <td>...</td>\n",
       "      <td>...</td>\n",
       "      <td>...</td>\n",
       "      <td>...</td>\n",
       "      <td>...</td>\n",
       "      <td>...</td>\n",
       "      <td>...</td>\n",
       "      <td>...</td>\n",
       "      <td>...</td>\n",
       "    </tr>\n",
       "    <tr>\n",
       "      <th>397465</th>\n",
       "      <td>540436</td>\n",
       "      <td>581486</td>\n",
       "      <td>23207</td>\n",
       "      <td>2011</td>\n",
       "      <td>12</td>\n",
       "      <td>5</td>\n",
       "      <td>9</td>\n",
       "      <td>lunch bag alphabet design</td>\n",
       "      <td>10</td>\n",
       "      <td>2011-12-09 09:38:00</td>\n",
       "      <td>1.65</td>\n",
       "      <td>17001</td>\n",
       "      <td>United Kingdom</td>\n",
       "      <td>16.50</td>\n",
       "    </tr>\n",
       "    <tr>\n",
       "      <th>397713</th>\n",
       "      <td>541695</td>\n",
       "      <td>581538</td>\n",
       "      <td>20727</td>\n",
       "      <td>2011</td>\n",
       "      <td>12</td>\n",
       "      <td>5</td>\n",
       "      <td>11</td>\n",
       "      <td>lunch bag  black skull.</td>\n",
       "      <td>1</td>\n",
       "      <td>2011-12-09 11:34:00</td>\n",
       "      <td>1.65</td>\n",
       "      <td>14446</td>\n",
       "      <td>United Kingdom</td>\n",
       "      <td>1.65</td>\n",
       "    </tr>\n",
       "    <tr>\n",
       "      <th>397714</th>\n",
       "      <td>541696</td>\n",
       "      <td>581538</td>\n",
       "      <td>20725</td>\n",
       "      <td>2011</td>\n",
       "      <td>12</td>\n",
       "      <td>5</td>\n",
       "      <td>11</td>\n",
       "      <td>lunch bag red retrospot</td>\n",
       "      <td>1</td>\n",
       "      <td>2011-12-09 11:34:00</td>\n",
       "      <td>1.65</td>\n",
       "      <td>14446</td>\n",
       "      <td>United Kingdom</td>\n",
       "      <td>1.65</td>\n",
       "    </tr>\n",
       "    <tr>\n",
       "      <th>397877</th>\n",
       "      <td>541862</td>\n",
       "      <td>581581</td>\n",
       "      <td>23681</td>\n",
       "      <td>2011</td>\n",
       "      <td>12</td>\n",
       "      <td>5</td>\n",
       "      <td>12</td>\n",
       "      <td>lunch bag red vintage doily</td>\n",
       "      <td>10</td>\n",
       "      <td>2011-12-09 12:20:00</td>\n",
       "      <td>1.65</td>\n",
       "      <td>17581</td>\n",
       "      <td>United Kingdom</td>\n",
       "      <td>16.50</td>\n",
       "    </tr>\n",
       "    <tr>\n",
       "      <th>397880</th>\n",
       "      <td>541865</td>\n",
       "      <td>581583</td>\n",
       "      <td>20725</td>\n",
       "      <td>2011</td>\n",
       "      <td>12</td>\n",
       "      <td>5</td>\n",
       "      <td>12</td>\n",
       "      <td>lunch bag red retrospot</td>\n",
       "      <td>40</td>\n",
       "      <td>2011-12-09 12:23:00</td>\n",
       "      <td>1.45</td>\n",
       "      <td>13777</td>\n",
       "      <td>United Kingdom</td>\n",
       "      <td>58.00</td>\n",
       "    </tr>\n",
       "  </tbody>\n",
       "</table>\n",
       "<p>11234 rows × 14 columns</p>\n",
       "</div>"
      ],
      "text/plain": [
       "        Unnamed: 0  InvoiceNo StockCode  year  month  day  hour  \\\n",
       "26340        42678     540015     20725  2011      1    2    11   \n",
       "26341        42679     540015     20726  2011      1    2    11   \n",
       "26512        42851     540023     22382  2011      1    2    12   \n",
       "26513        42852     540023     20726  2011      1    2    12   \n",
       "26860        43616     540098     22384  2011      1    2    15   \n",
       "...            ...        ...       ...   ...    ...  ...   ...   \n",
       "397465      540436     581486     23207  2011     12    5     9   \n",
       "397713      541695     581538     20727  2011     12    5    11   \n",
       "397714      541696     581538     20725  2011     12    5    11   \n",
       "397877      541862     581581     23681  2011     12    5    12   \n",
       "397880      541865     581583     20725  2011     12    5    12   \n",
       "\n",
       "                        Description  Quantity          InvoiceDate  UnitPrice  \\\n",
       "26340       lunch bag red retrospot        10  2011-01-04 11:40:00       1.65   \n",
       "26341            lunch bag woodland        10  2011-01-04 11:40:00       1.65   \n",
       "26512    lunch bag spaceboy design          2  2011-01-04 12:58:00       1.65   \n",
       "26513            lunch bag woodland         1  2011-01-04 12:58:00       1.65   \n",
       "26860       lunch bag pink polkadot         1  2011-01-04 15:50:00       1.65   \n",
       "...                             ...       ...                  ...        ...   \n",
       "397465    lunch bag alphabet design        10  2011-12-09 09:38:00       1.65   \n",
       "397713      lunch bag  black skull.         1  2011-12-09 11:34:00       1.65   \n",
       "397714      lunch bag red retrospot         1  2011-12-09 11:34:00       1.65   \n",
       "397877  lunch bag red vintage doily        10  2011-12-09 12:20:00       1.65   \n",
       "397880      lunch bag red retrospot        40  2011-12-09 12:23:00       1.45   \n",
       "\n",
       "        CustomerID         Country  amount_spent  \n",
       "26340        13319  United Kingdom         16.50  \n",
       "26341        13319  United Kingdom         16.50  \n",
       "26512        15039  United Kingdom          3.30  \n",
       "26513        15039  United Kingdom          1.65  \n",
       "26860        16241  United Kingdom          1.65  \n",
       "...            ...             ...           ...  \n",
       "397465       17001  United Kingdom         16.50  \n",
       "397713       14446  United Kingdom          1.65  \n",
       "397714       14446  United Kingdom          1.65  \n",
       "397877       17581  United Kingdom         16.50  \n",
       "397880       13777  United Kingdom         58.00  \n",
       "\n",
       "[11234 rows x 14 columns]"
      ]
     },
     "execution_count": 182,
     "metadata": {},
     "output_type": "execute_result"
    }
   ],
   "source": [
    "pedidos_2011_lunch_bag = orders[(orders['year'] == 2011) & (orders['Description'].str.contains('lunch bag,*'))]\n",
    "pedidos_2011_lunch_bag"
   ]
  },
  {
   "cell_type": "markdown",
   "metadata": {},
   "source": [
    "#### Muestra la distribución de frecuencias del importe gastado en España."
   ]
  },
  {
   "cell_type": "code",
   "execution_count": 195,
   "metadata": {},
   "outputs": [
    {
     "data": {
      "image/png": "[encoded data removed]",
      "text/plain": [
       "<Figure size 640x480 with 1 Axes>"
      ]
     },
     "metadata": {},
     "output_type": "display_data"
    }
   ],
   "source": [
    "pedidos_españa = orders[orders['Country'] == 'Spain']\n",
    "distribucion_frecuencias = pedidos_españa['amount_spent'].value_counts()\n",
    "distribucion_frecuencias\n",
    "\n",
    "plt.hist(pedidos_españa['amount_spent'], bins=30)\n",
    "plt.title('Distribución de Frecuencias del Importe Gastado en España')\n",
    "plt.xlabel('Importe Gastado')\n",
    "plt.ylabel('Frecuencia')\n",
    "plt.grid(axis='y', alpha=0.75)\n",
    "plt.show()"
   ]
  },
  {
   "cell_type": "markdown",
   "metadata": {},
   "source": [
    "#### Seleccione todos los pedidos realizados en el mes de agosto"
   ]
  },
  {
   "cell_type": "code",
   "execution_count": 200,
   "metadata": {},
   "outputs": [
    {
     "data": {
      "text/html": [
       "<div>\n",
       "<style scoped>\n",
       "    .dataframe tbody tr th:only-of-type {\n",
       "        vertical-align: middle;\n",
       "    }\n",
       "\n",
       "    .dataframe tbody tr th {\n",
       "        vertical-align: top;\n",
       "    }\n",
       "\n",
       "    .dataframe thead th {\n",
       "        text-align: right;\n",
       "    }\n",
       "</style>\n",
       "<table border=\"1\" class=\"dataframe\">\n",
       "  <thead>\n",
       "    <tr style=\"text-align: right;\">\n",
       "      <th></th>\n",
       "      <th>Unnamed: 0</th>\n",
       "      <th>InvoiceNo</th>\n",
       "      <th>StockCode</th>\n",
       "      <th>year</th>\n",
       "      <th>month</th>\n",
       "      <th>day</th>\n",
       "      <th>hour</th>\n",
       "      <th>Description</th>\n",
       "      <th>Quantity</th>\n",
       "      <th>InvoiceDate</th>\n",
       "      <th>UnitPrice</th>\n",
       "      <th>CustomerID</th>\n",
       "      <th>Country</th>\n",
       "      <th>amount_spent</th>\n",
       "    </tr>\n",
       "  </thead>\n",
       "  <tbody>\n",
       "    <tr>\n",
       "      <th>199475</th>\n",
       "      <td>285421</td>\n",
       "      <td>561904</td>\n",
       "      <td>22075</td>\n",
       "      <td>2011</td>\n",
       "      <td>8</td>\n",
       "      <td>1</td>\n",
       "      <td>8</td>\n",
       "      <td>6 ribbons elegant christmas</td>\n",
       "      <td>96</td>\n",
       "      <td>2011-08-01 08:30:00</td>\n",
       "      <td>1.45</td>\n",
       "      <td>17941</td>\n",
       "      <td>United Kingdom</td>\n",
       "      <td>139.20</td>\n",
       "    </tr>\n",
       "    <tr>\n",
       "      <th>199476</th>\n",
       "      <td>285422</td>\n",
       "      <td>561904</td>\n",
       "      <td>85049E</td>\n",
       "      <td>2011</td>\n",
       "      <td>8</td>\n",
       "      <td>1</td>\n",
       "      <td>8</td>\n",
       "      <td>scandinavian reds ribbons</td>\n",
       "      <td>156</td>\n",
       "      <td>2011-08-01 08:30:00</td>\n",
       "      <td>1.06</td>\n",
       "      <td>17941</td>\n",
       "      <td>United Kingdom</td>\n",
       "      <td>165.36</td>\n",
       "    </tr>\n",
       "    <tr>\n",
       "      <th>199477</th>\n",
       "      <td>285423</td>\n",
       "      <td>561905</td>\n",
       "      <td>21385</td>\n",
       "      <td>2011</td>\n",
       "      <td>8</td>\n",
       "      <td>1</td>\n",
       "      <td>9</td>\n",
       "      <td>ivory hanging decoration  heart</td>\n",
       "      <td>24</td>\n",
       "      <td>2011-08-01 09:31:00</td>\n",
       "      <td>0.85</td>\n",
       "      <td>14947</td>\n",
       "      <td>United Kingdom</td>\n",
       "      <td>20.40</td>\n",
       "    </tr>\n",
       "    <tr>\n",
       "      <th>199478</th>\n",
       "      <td>285424</td>\n",
       "      <td>561905</td>\n",
       "      <td>84970L</td>\n",
       "      <td>2011</td>\n",
       "      <td>8</td>\n",
       "      <td>1</td>\n",
       "      <td>9</td>\n",
       "      <td>single heart zinc t-light holder</td>\n",
       "      <td>12</td>\n",
       "      <td>2011-08-01 09:31:00</td>\n",
       "      <td>0.95</td>\n",
       "      <td>14947</td>\n",
       "      <td>United Kingdom</td>\n",
       "      <td>11.40</td>\n",
       "    </tr>\n",
       "    <tr>\n",
       "      <th>199479</th>\n",
       "      <td>285425</td>\n",
       "      <td>561905</td>\n",
       "      <td>84970S</td>\n",
       "      <td>2011</td>\n",
       "      <td>8</td>\n",
       "      <td>1</td>\n",
       "      <td>9</td>\n",
       "      <td>hanging heart zinc t-light holder</td>\n",
       "      <td>12</td>\n",
       "      <td>2011-08-01 09:31:00</td>\n",
       "      <td>0.85</td>\n",
       "      <td>14947</td>\n",
       "      <td>United Kingdom</td>\n",
       "      <td>10.20</td>\n",
       "    </tr>\n",
       "    <tr>\n",
       "      <th>...</th>\n",
       "      <td>...</td>\n",
       "      <td>...</td>\n",
       "      <td>...</td>\n",
       "      <td>...</td>\n",
       "      <td>...</td>\n",
       "      <td>...</td>\n",
       "      <td>...</td>\n",
       "      <td>...</td>\n",
       "      <td>...</td>\n",
       "      <td>...</td>\n",
       "      <td>...</td>\n",
       "      <td>...</td>\n",
       "      <td>...</td>\n",
       "      <td>...</td>\n",
       "    </tr>\n",
       "    <tr>\n",
       "      <th>226483</th>\n",
       "      <td>320688</td>\n",
       "      <td>565067</td>\n",
       "      <td>22644</td>\n",
       "      <td>2011</td>\n",
       "      <td>8</td>\n",
       "      <td>3</td>\n",
       "      <td>17</td>\n",
       "      <td>ceramic cherry cake money bank</td>\n",
       "      <td>2</td>\n",
       "      <td>2011-08-31 17:16:00</td>\n",
       "      <td>1.45</td>\n",
       "      <td>15856</td>\n",
       "      <td>United Kingdom</td>\n",
       "      <td>2.90</td>\n",
       "    </tr>\n",
       "    <tr>\n",
       "      <th>226484</th>\n",
       "      <td>320689</td>\n",
       "      <td>565067</td>\n",
       "      <td>22645</td>\n",
       "      <td>2011</td>\n",
       "      <td>8</td>\n",
       "      <td>3</td>\n",
       "      <td>17</td>\n",
       "      <td>ceramic heart fairy cake money bank</td>\n",
       "      <td>2</td>\n",
       "      <td>2011-08-31 17:16:00</td>\n",
       "      <td>1.45</td>\n",
       "      <td>15856</td>\n",
       "      <td>United Kingdom</td>\n",
       "      <td>2.90</td>\n",
       "    </tr>\n",
       "    <tr>\n",
       "      <th>226485</th>\n",
       "      <td>320690</td>\n",
       "      <td>565067</td>\n",
       "      <td>22637</td>\n",
       "      <td>2011</td>\n",
       "      <td>8</td>\n",
       "      <td>3</td>\n",
       "      <td>17</td>\n",
       "      <td>piggy bank retrospot</td>\n",
       "      <td>2</td>\n",
       "      <td>2011-08-31 17:16:00</td>\n",
       "      <td>2.55</td>\n",
       "      <td>15856</td>\n",
       "      <td>United Kingdom</td>\n",
       "      <td>5.10</td>\n",
       "    </tr>\n",
       "    <tr>\n",
       "      <th>226486</th>\n",
       "      <td>320691</td>\n",
       "      <td>565067</td>\n",
       "      <td>22646</td>\n",
       "      <td>2011</td>\n",
       "      <td>8</td>\n",
       "      <td>3</td>\n",
       "      <td>17</td>\n",
       "      <td>ceramic strawberry cake money bank</td>\n",
       "      <td>2</td>\n",
       "      <td>2011-08-31 17:16:00</td>\n",
       "      <td>1.45</td>\n",
       "      <td>15856</td>\n",
       "      <td>United Kingdom</td>\n",
       "      <td>2.90</td>\n",
       "    </tr>\n",
       "    <tr>\n",
       "      <th>226487</th>\n",
       "      <td>320692</td>\n",
       "      <td>565067</td>\n",
       "      <td>22741</td>\n",
       "      <td>2011</td>\n",
       "      <td>8</td>\n",
       "      <td>3</td>\n",
       "      <td>17</td>\n",
       "      <td>funky diva pen</td>\n",
       "      <td>48</td>\n",
       "      <td>2011-08-31 17:16:00</td>\n",
       "      <td>0.85</td>\n",
       "      <td>15856</td>\n",
       "      <td>United Kingdom</td>\n",
       "      <td>40.80</td>\n",
       "    </tr>\n",
       "  </tbody>\n",
       "</table>\n",
       "<p>27013 rows × 14 columns</p>\n",
       "</div>"
      ],
      "text/plain": [
       "        Unnamed: 0  InvoiceNo StockCode  year  month  day  hour  \\\n",
       "199475      285421     561904     22075  2011      8    1     8   \n",
       "199476      285422     561904    85049E  2011      8    1     8   \n",
       "199477      285423     561905     21385  2011      8    1     9   \n",
       "199478      285424     561905    84970L  2011      8    1     9   \n",
       "199479      285425     561905    84970S  2011      8    1     9   \n",
       "...            ...        ...       ...   ...    ...  ...   ...   \n",
       "226483      320688     565067     22644  2011      8    3    17   \n",
       "226484      320689     565067     22645  2011      8    3    17   \n",
       "226485      320690     565067     22637  2011      8    3    17   \n",
       "226486      320691     565067     22646  2011      8    3    17   \n",
       "226487      320692     565067     22741  2011      8    3    17   \n",
       "\n",
       "                                Description  Quantity          InvoiceDate  \\\n",
       "199475         6 ribbons elegant christmas         96  2011-08-01 08:30:00   \n",
       "199476            scandinavian reds ribbons       156  2011-08-01 08:30:00   \n",
       "199477      ivory hanging decoration  heart        24  2011-08-01 09:31:00   \n",
       "199478     single heart zinc t-light holder        12  2011-08-01 09:31:00   \n",
       "199479    hanging heart zinc t-light holder        12  2011-08-01 09:31:00   \n",
       "...                                     ...       ...                  ...   \n",
       "226483       ceramic cherry cake money bank         2  2011-08-31 17:16:00   \n",
       "226484  ceramic heart fairy cake money bank         2  2011-08-31 17:16:00   \n",
       "226485                piggy bank retrospot          2  2011-08-31 17:16:00   \n",
       "226486   ceramic strawberry cake money bank         2  2011-08-31 17:16:00   \n",
       "226487                       funky diva pen        48  2011-08-31 17:16:00   \n",
       "\n",
       "        UnitPrice  CustomerID         Country  amount_spent  \n",
       "199475       1.45       17941  United Kingdom        139.20  \n",
       "199476       1.06       17941  United Kingdom        165.36  \n",
       "199477       0.85       14947  United Kingdom         20.40  \n",
       "199478       0.95       14947  United Kingdom         11.40  \n",
       "199479       0.85       14947  United Kingdom         10.20  \n",
       "...           ...         ...             ...           ...  \n",
       "226483       1.45       15856  United Kingdom          2.90  \n",
       "226484       1.45       15856  United Kingdom          2.90  \n",
       "226485       2.55       15856  United Kingdom          5.10  \n",
       "226486       1.45       15856  United Kingdom          2.90  \n",
       "226487       0.85       15856  United Kingdom         40.80  \n",
       "\n",
       "[27013 rows x 14 columns]"
      ]
     },
     "execution_count": 200,
     "metadata": {},
     "output_type": "execute_result"
    }
   ],
   "source": [
    "pedidos_agosto = orders[orders['month'] == 8]\n",
    "pedidos_agosto"
   ]
  },
  {
   "cell_type": "markdown",
   "metadata": {},
   "source": [
    "#### Seleccione cuántos pedidos se realizan por países en el mes de agosto\n",
    "##### Pista: Utilice value_counts()"
   ]
  },
  {
   "cell_type": "code",
   "execution_count": 204,
   "metadata": {},
   "outputs": [
    {
     "data": {
      "text/plain": [
       "Country\n",
       "United Kingdom     23105\n",
       "Germany              795\n",
       "EIRE                 593\n",
       "France               569\n",
       "Netherlands          280\n",
       "Switzerland          267\n",
       "Spain                252\n",
       "Belgium              194\n",
       "Israel               171\n",
       "Channel Islands      140\n",
       "Australia            107\n",
       "Italy                 95\n",
       "Austria               88\n",
       "Norway                77\n",
       "Finland               61\n",
       "Malta                 55\n",
       "Portugal              41\n",
       "Sweden                40\n",
       "Unspecified           23\n",
       "Iceland               22\n",
       "Poland                17\n",
       "Denmark               16\n",
       "Canada                 5\n",
       "Name: count, dtype: int64"
      ]
     },
     "execution_count": 204,
     "metadata": {},
     "output_type": "execute_result"
    }
   ],
   "source": [
    "pedidos_agosto_pais = pedidos_agosto['Country'].value_counts()\n",
    "pedidos_agosto_pais"
   ]
  },
  {
   "cell_type": "markdown",
   "metadata": {},
   "source": [
    "#### ¿Cuál es el gasto medio por país?"
   ]
  },
  {
   "cell_type": "code",
   "execution_count": 207,
   "metadata": {
    "scrolled": true
   },
   "outputs": [
    {
     "data": {
      "text/plain": [
       "Country\n",
       "Australia               116.895620\n",
       "Austria                  25.624824\n",
       "Bahrain                  32.258824\n",
       "Belgium                  20.283772\n",
       "Brazil                   35.737500\n",
       "Canada                   24.280662\n",
       "Channel Islands          27.340160\n",
       "Cyprus                   22.134169\n",
       "Czech Republic           33.069600\n",
       "Denmark                  49.882474\n",
       "EIRE                     36.687745\n",
       "European Community       21.670833\n",
       "Finland                  32.913985\n",
       "France                   25.056827\n",
       "Germany                  25.311562\n",
       "Greece                   32.831172\n",
       "Iceland                  23.681319\n",
       "Israel                   29.119718\n",
       "Italy                    23.064960\n",
       "Japan                   116.561900\n",
       "Lebanon                  37.641778\n",
       "Lithuania                47.458857\n",
       "Malta                    24.335625\n",
       "Netherlands             120.798282\n",
       "Norway                   33.736418\n",
       "Poland                   22.226212\n",
       "Portugal                 22.872702\n",
       "RSA                      17.281207\n",
       "Saudi Arabia             16.213333\n",
       "Singapore                95.852658\n",
       "Spain                    24.779521\n",
       "Sweden                   85.096075\n",
       "Switzerland              30.642752\n",
       "USA                      20.002179\n",
       "United Arab Emirates     27.974706\n",
       "United Kingdom           20.625073\n",
       "Unspecified              10.930615\n",
       "Name: amount_spent, dtype: float64"
      ]
     },
     "execution_count": 207,
     "metadata": {},
     "output_type": "execute_result"
    }
   ],
   "source": [
    "gasto_medio_pais = orders.groupby('Country')['amount_spent'].mean()\n",
    "gasto_medio_pais"
   ]
  },
  {
   "cell_type": "markdown",
   "metadata": {},
   "source": [
    "#### ¿Cuál es el artículo más caro?"
   ]
  },
  {
   "cell_type": "code",
   "execution_count": 225,
   "metadata": {},
   "outputs": [
    {
     "name": "stdout",
     "output_type": "stream",
     "text": [
      "       Description  UnitPrice\n",
      "118352     postage    8142.75\n"
     ]
    }
   ],
   "source": [
    "precio_unitario_mas_caro = orders['UnitPrice'].max()\n",
    "articulo_mas_caro = orders[orders['UnitPrice'] == precio_unitario_mas_caro]\n",
    "print(articulo_mas_caro[['Description','UnitPrice']])"
   ]
  },
  {
   "cell_type": "markdown",
   "metadata": {},
   "source": [
    "#### ¿Cuál fue la cantidad media gastada al año?"
   ]
  },
  {
   "cell_type": "code",
   "execution_count": 227,
   "metadata": {},
   "outputs": [
    {
     "data": {
      "text/plain": [
       "year\n",
       "2010    21.892733\n",
       "2011    22.430074\n",
       "Name: amount_spent, dtype: float64"
      ]
     },
     "execution_count": 227,
     "metadata": {},
     "output_type": "execute_result"
    }
   ],
   "source": [
    "gasto_medio_año = orders.groupby('year')['amount_spent'].mean()\n",
    "gasto_medio_año"
   ]
  }
 ],
 "metadata": {
  "anaconda-cloud": {},
  "kernelspec": {
   "display_name": "Python 3 (ipykernel)",
   "language": "python",
   "name": "python3"
  },
  "language_info": {
   "codemirror_mode": {
    "name": "ipython",
    "version": 3
   },
   "file_extension": ".py",
   "mimetype": "text/x-python",
   "name": "python",
   "nbconvert_exporter": "python",
   "pygments_lexer": "ipython3",
   "version": "3.12.4"
  }
 },
 "nbformat": 4,
 "nbformat_minor": 4
}
